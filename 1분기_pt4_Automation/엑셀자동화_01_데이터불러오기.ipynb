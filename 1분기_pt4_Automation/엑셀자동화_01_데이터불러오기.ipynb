{
 "cells": [
  {
   "cell_type": "code",
   "execution_count": 1,
   "id": "ba759608-9288-4a76-8eba-672672073c31",
   "metadata": {},
   "outputs": [
    {
     "name": "stdout",
     "output_type": "stream",
     "text": [
      "Requirement already satisfied: openpyxl in c:\\users\\ralbu\\anaconda3\\lib\\site-packages (3.0.10)\n",
      "Requirement already satisfied: et_xmlfile in c:\\users\\ralbu\\anaconda3\\lib\\site-packages (from openpyxl) (1.1.0)\n"
     ]
    }
   ],
   "source": [
    "!pip install openpyxl"
   ]
  },
  {
   "cell_type": "markdown",
   "id": "3176bebf-4dad-4677-979a-005c8cc4c131",
   "metadata": {},
   "source": [
    "## 라이브러리 불러오기"
   ]
  },
  {
   "cell_type": "code",
   "execution_count": 1,
   "id": "2a6b5457-5266-409c-83e8-21a3bb863148",
   "metadata": {
    "tags": []
   },
   "outputs": [],
   "source": [
    "from openpyxl import load_workbook, Workbook"
   ]
  },
  {
   "cell_type": "markdown",
   "id": "ee721cf7-d775-47e6-b015-37b67c90b782",
   "metadata": {},
   "source": [
    "## 파일목록탐색"
   ]
  },
  {
   "cell_type": "code",
   "execution_count": 2,
   "id": "1335ae8b-fa29-424a-a944-da1b093c9b5a",
   "metadata": {
    "tags": []
   },
   "outputs": [
    {
     "data": {
      "text/plain": [
       "['2017.12.1.xlsx',\n",
       " '2017.12.2.xlsx',\n",
       " '2017.12.3.xlsx',\n",
       " '2017.12.4.xlsx',\n",
       " '2017.12.5.xlsx',\n",
       " '2017.12.6.xlsx',\n",
       " '2017.12.7.xlsx',\n",
       " '2017.12.8.xlsx',\n",
       " '2017.12.9.xlsx',\n",
       " 'other.xlsx',\n",
       " 'result.xlsx']"
      ]
     },
     "execution_count": 2,
     "metadata": {},
     "output_type": "execute_result"
    }
   ],
   "source": [
    "from os import listdir\n",
    "folder = 'excels/'\n",
    "listdir(folder)"
   ]
  },
  {
   "cell_type": "markdown",
   "id": "090de7c3-80d3-4776-8099-d3de128e43a1",
   "metadata": {},
   "source": [
    "## 파일열기 및 시트 선택하기"
   ]
  },
  {
   "cell_type": "code",
   "execution_count": 3,
   "id": "0b5a72ab-6b05-4dfa-b062-60e669680200",
   "metadata": {
    "tags": []
   },
   "outputs": [],
   "source": [
    "xlsx = load_workbook(folder+'2017.12.1.xlsx')\n",
    "sheet = xlsx.active # 최근에 활성화 되어 있는 시트를 가져오기"
   ]
  },
  {
   "cell_type": "markdown",
   "id": "93c81d03-470f-43aa-b4e5-2454a5f3e328",
   "metadata": {},
   "source": [
    "## 시트의 이름으로 선택하기"
   ]
  },
  {
   "cell_type": "code",
   "execution_count": 4,
   "id": "2ee7746b-2d6b-4d86-83c3-cdce60a580cd",
   "metadata": {
    "tags": []
   },
   "outputs": [
    {
     "data": {
      "text/plain": [
       "['Sheet']"
      ]
     },
     "execution_count": 4,
     "metadata": {},
     "output_type": "execute_result"
    }
   ],
   "source": [
    "xlsx.sheetnames"
   ]
  },
  {
   "cell_type": "code",
   "execution_count": 5,
   "id": "55ace8ce-238d-4d93-8a05-60eab287120a",
   "metadata": {
    "tags": []
   },
   "outputs": [],
   "source": [
    "sheet = xlsx['Sheet'] # 시트 이름으로 작업할 시트를 선택해도 된다"
   ]
  },
  {
   "cell_type": "markdown",
   "id": "17788609-7f73-4930-9636-06c32bdc4ebd",
   "metadata": {},
   "source": [
    "## 특정 행 읽기"
   ]
  },
  {
   "cell_type": "code",
   "execution_count": 28,
   "id": "f1702def-507a-49da-9fce-ecdf57a6f845",
   "metadata": {
    "tags": []
   },
   "outputs": [
    {
     "data": {
      "text/plain": [
       "(<Cell 'Sheet'.A1>, <Cell 'Sheet'.B1>, <Cell 'Sheet'.C1>)"
      ]
     },
     "execution_count": 28,
     "metadata": {},
     "output_type": "execute_result"
    }
   ],
   "source": [
    "sheet['1']"
   ]
  },
  {
   "cell_type": "code",
   "execution_count": 34,
   "id": "3a594ee3-b680-420f-9cf7-e750af078256",
   "metadata": {
    "tags": []
   },
   "outputs": [
    {
     "name": "stdout",
     "output_type": "stream",
     "text": [
      "2017.12.1\n",
      " 0:00:00\n",
      "log-data at '2017-12-1  0:00:00'\n"
     ]
    }
   ],
   "source": [
    "for cell in sheet['1']:\n",
    "    print(cell.value)"
   ]
  },
  {
   "cell_type": "markdown",
   "id": "55e0453b-2a9b-4cbb-8d2e-2ff06987a755",
   "metadata": {},
   "source": [
    "## 특정 열 읽기"
   ]
  },
  {
   "cell_type": "code",
   "execution_count": 27,
   "id": "246a8848-76a1-4d58-9488-a0736d1adad6",
   "metadata": {
    "tags": []
   },
   "outputs": [
    {
     "data": {
      "text/plain": [
       "(<Cell 'Sheet'.B1>,\n",
       " <Cell 'Sheet'.B2>,\n",
       " <Cell 'Sheet'.B3>,\n",
       " <Cell 'Sheet'.B4>,\n",
       " <Cell 'Sheet'.B5>,\n",
       " <Cell 'Sheet'.B6>,\n",
       " <Cell 'Sheet'.B7>,\n",
       " <Cell 'Sheet'.B8>,\n",
       " <Cell 'Sheet'.B9>,\n",
       " <Cell 'Sheet'.B10>,\n",
       " <Cell 'Sheet'.B11>,\n",
       " <Cell 'Sheet'.B12>,\n",
       " <Cell 'Sheet'.B13>,\n",
       " <Cell 'Sheet'.B14>,\n",
       " <Cell 'Sheet'.B15>,\n",
       " <Cell 'Sheet'.B16>,\n",
       " <Cell 'Sheet'.B17>,\n",
       " <Cell 'Sheet'.B18>,\n",
       " <Cell 'Sheet'.B19>,\n",
       " <Cell 'Sheet'.B20>,\n",
       " <Cell 'Sheet'.B21>,\n",
       " <Cell 'Sheet'.B22>,\n",
       " <Cell 'Sheet'.B23>,\n",
       " <Cell 'Sheet'.B24>)"
      ]
     },
     "execution_count": 27,
     "metadata": {},
     "output_type": "execute_result"
    }
   ],
   "source": [
    "sheet['B']"
   ]
  },
  {
   "cell_type": "code",
   "execution_count": 35,
   "id": "d04c5506-24aa-4e73-9ec4-379ef50111f3",
   "metadata": {
    "tags": []
   },
   "outputs": [
    {
     "name": "stdout",
     "output_type": "stream",
     "text": [
      " 0:00:00\n",
      " 1:00:00\n",
      " 2:00:00\n",
      " 3:00:00\n",
      " 4:00:00\n",
      " 5:00:00\n",
      " 6:00:00\n",
      " 7:00:00\n",
      " 8:00:00\n",
      " 9:00:00\n",
      "10:00:00\n",
      "11:00:00\n",
      "12:00:00\n",
      "13:00:00\n",
      "14:00:00\n",
      "15:00:00\n",
      "16:00:00\n",
      "17:00:00\n",
      "18:00:00\n",
      "19:00:00\n",
      "20:00:00\n",
      "21:00:00\n",
      "22:00:00\n",
      "23:00:00\n"
     ]
    }
   ],
   "source": [
    "for cell in sheet['B']:\n",
    "    print(cell.value)"
   ]
  },
  {
   "cell_type": "markdown",
   "id": "be4fb8f6-2b60-474d-8072-bd36b4f50c2b",
   "metadata": {},
   "source": [
    "## 셀 읽기"
   ]
  },
  {
   "cell_type": "code",
   "execution_count": 6,
   "id": "11ab1b01-ca28-4eba-baa8-b1094bfc0867",
   "metadata": {
    "tags": []
   },
   "outputs": [
    {
     "data": {
      "text/plain": [
       "('2017.12.1', '2017.12.1', '2017.12.1')"
      ]
     },
     "execution_count": 6,
     "metadata": {},
     "output_type": "execute_result"
    }
   ],
   "source": [
    "# 엑셀 행열이름으로 읽기\n",
    "sheet['A1'].value, sheet['A2'].value, sheet['A3'].value"
   ]
  },
  {
   "cell_type": "code",
   "execution_count": 32,
   "id": "035b1a2d-69c2-4097-ba8c-5ad95b289716",
   "metadata": {
    "tags": []
   },
   "outputs": [
    {
     "data": {
      "text/plain": [
       "'2017.12.1'"
      ]
     },
     "execution_count": 32,
     "metadata": {},
     "output_type": "execute_result"
    }
   ],
   "source": [
    "row = sheet['1'] # 1행 선택후\n",
    "row[0].value #1열 선택"
   ]
  },
  {
   "cell_type": "code",
   "execution_count": 33,
   "id": "0191f4c1-6b69-4864-b613-a648cb0cf70a",
   "metadata": {
    "tags": []
   },
   "outputs": [
    {
     "data": {
      "text/plain": [
       "' 0:00:00'"
      ]
     },
     "execution_count": 33,
     "metadata": {},
     "output_type": "execute_result"
    }
   ],
   "source": [
    "col = sheet['B'] #2열 선택후\n",
    "col[0].value #1행선택"
   ]
  },
  {
   "cell_type": "code",
   "execution_count": 20,
   "id": "fa7491ce-8f9c-405b-a711-fe62941e64dc",
   "metadata": {
    "tags": []
   },
   "outputs": [
    {
     "data": {
      "text/plain": [
       "'2017.12.1'"
      ]
     },
     "execution_count": 20,
     "metadata": {},
     "output_type": "execute_result"
    }
   ],
   "source": [
    "# 인덱스로 읽기\n",
    "# 1행 1열\n",
    "sheet.cell(row=1, column=1).value"
   ]
  },
  {
   "cell_type": "markdown",
   "id": "28a2ab9b-f7a5-41e8-89bd-071f9c1aeb4d",
   "metadata": {},
   "source": [
    "## 행단위로 데이터 순회"
   ]
  },
  {
   "cell_type": "code",
   "execution_count": 64,
   "id": "47826b1f-0abe-4b32-ab9a-a63e12997e1c",
   "metadata": {},
   "outputs": [
    {
     "name": "stdout",
     "output_type": "stream",
     "text": [
      "('2017.12.1', ' 0:00:00', \"log-data at '2017-12-1  0:00:00'\")\n",
      "('2017.12.1', ' 1:00:00', \"log-data at '2017-12-1  1:00:00'\")\n",
      "('2017.12.1', ' 2:00:00', \"log-data at '2017-12-1  2:00:00'\")\n",
      "('2017.12.1', ' 3:00:00', \"log-data at '2017-12-1  3:00:00'\")\n",
      "('2017.12.1', ' 4:00:00', \"log-data at '2017-12-1  4:00:00'\")\n",
      "('2017.12.1', ' 5:00:00', \"log-data at '2017-12-1  5:00:00'\")\n",
      "('2017.12.1', ' 6:00:00', \"log-data at '2017-12-1  6:00:00'\")\n",
      "('2017.12.1', ' 7:00:00', \"log-data at '2017-12-1  7:00:00'\")\n",
      "('2017.12.1', ' 8:00:00', \"log-data at '2017-12-1  8:00:00'\")\n",
      "('2017.12.1', ' 9:00:00', \"log-data at '2017-12-1  9:00:00'\")\n",
      "('2017.12.1', '10:00:00', \"log-data at '2017-12-1 10:00:00'\")\n",
      "('2017.12.1', '11:00:00', \"log-data at '2017-12-1 11:00:00'\")\n",
      "('2017.12.1', '12:00:00', \"log-data at '2017-12-1 12:00:00'\")\n",
      "('2017.12.1', '13:00:00', \"log-data at '2017-12-1 13:00:00'\")\n",
      "('2017.12.1', '14:00:00', \"log-data at '2017-12-1 14:00:00'\")\n",
      "('2017.12.1', '15:00:00', \"log-data at '2017-12-1 15:00:00'\")\n",
      "('2017.12.1', '16:00:00', \"log-data at '2017-12-1 16:00:00'\")\n",
      "('2017.12.1', '17:00:00', \"log-data at '2017-12-1 17:00:00'\")\n",
      "('2017.12.1', '18:00:00', \"log-data at '2017-12-1 18:00:00'\")\n",
      "('2017.12.1', '19:00:00', \"log-data at '2017-12-1 19:00:00'\")\n",
      "('2017.12.1', '20:00:00', \"log-data at '2017-12-1 20:00:00'\")\n",
      "('2017.12.1', '21:00:00', \"log-data at '2017-12-1 21:00:00'\")\n",
      "('2017.12.1', '22:00:00', \"log-data at '2017-12-1 22:00:00'\")\n",
      "('2017.12.1', '23:00:00', \"log-data at '2017-12-1 23:00:00'\")\n"
     ]
    }
   ],
   "source": [
    "for i in sheet.iter_rows(values_only=True):\n",
    "    print(i)"
   ]
  },
  {
   "cell_type": "markdown",
   "id": "7c6e38b7-6612-4bd5-82d8-02d9ef909e98",
   "metadata": {
    "tags": []
   },
   "source": [
    "## 열단위로 데이터 순회"
   ]
  },
  {
   "cell_type": "code",
   "execution_count": 14,
   "id": "9c9c1865-46c0-4e96-aea0-d5ffc391cc81",
   "metadata": {
    "tags": []
   },
   "outputs": [
    {
     "name": "stdout",
     "output_type": "stream",
     "text": [
      "(<Cell 'Sheet'.A1>, <Cell 'Sheet'.A2>, <Cell 'Sheet'.A3>, <Cell 'Sheet'.A4>, <Cell 'Sheet'.A5>, <Cell 'Sheet'.A6>, <Cell 'Sheet'.A7>, <Cell 'Sheet'.A8>, <Cell 'Sheet'.A9>, <Cell 'Sheet'.A10>, <Cell 'Sheet'.A11>, <Cell 'Sheet'.A12>, <Cell 'Sheet'.A13>, <Cell 'Sheet'.A14>, <Cell 'Sheet'.A15>, <Cell 'Sheet'.A16>, <Cell 'Sheet'.A17>, <Cell 'Sheet'.A18>, <Cell 'Sheet'.A19>, <Cell 'Sheet'.A20>, <Cell 'Sheet'.A21>, <Cell 'Sheet'.A22>, <Cell 'Sheet'.A23>, <Cell 'Sheet'.A24>)\n",
      "(<Cell 'Sheet'.B1>, <Cell 'Sheet'.B2>, <Cell 'Sheet'.B3>, <Cell 'Sheet'.B4>, <Cell 'Sheet'.B5>, <Cell 'Sheet'.B6>, <Cell 'Sheet'.B7>, <Cell 'Sheet'.B8>, <Cell 'Sheet'.B9>, <Cell 'Sheet'.B10>, <Cell 'Sheet'.B11>, <Cell 'Sheet'.B12>, <Cell 'Sheet'.B13>, <Cell 'Sheet'.B14>, <Cell 'Sheet'.B15>, <Cell 'Sheet'.B16>, <Cell 'Sheet'.B17>, <Cell 'Sheet'.B18>, <Cell 'Sheet'.B19>, <Cell 'Sheet'.B20>, <Cell 'Sheet'.B21>, <Cell 'Sheet'.B22>, <Cell 'Sheet'.B23>, <Cell 'Sheet'.B24>)\n",
      "(<Cell 'Sheet'.C1>, <Cell 'Sheet'.C2>, <Cell 'Sheet'.C3>, <Cell 'Sheet'.C4>, <Cell 'Sheet'.C5>, <Cell 'Sheet'.C6>, <Cell 'Sheet'.C7>, <Cell 'Sheet'.C8>, <Cell 'Sheet'.C9>, <Cell 'Sheet'.C10>, <Cell 'Sheet'.C11>, <Cell 'Sheet'.C12>, <Cell 'Sheet'.C13>, <Cell 'Sheet'.C14>, <Cell 'Sheet'.C15>, <Cell 'Sheet'.C16>, <Cell 'Sheet'.C17>, <Cell 'Sheet'.C18>, <Cell 'Sheet'.C19>, <Cell 'Sheet'.C20>, <Cell 'Sheet'.C21>, <Cell 'Sheet'.C22>, <Cell 'Sheet'.C23>, <Cell 'Sheet'.C24>)\n"
     ]
    }
   ],
   "source": [
    "for i in sheet.iter_cols():\n",
    "    print(i)"
   ]
  },
  {
   "cell_type": "code",
   "execution_count": 38,
   "id": "1ae41566-f793-45c4-a12c-2035acf80ef4",
   "metadata": {},
   "outputs": [
    {
     "data": {
      "text/plain": [
       "(<Cell 'Sheet'.A1>,\n",
       " <Cell 'Sheet'.A2>,\n",
       " <Cell 'Sheet'.A3>,\n",
       " <Cell 'Sheet'.A4>,\n",
       " <Cell 'Sheet'.A5>,\n",
       " <Cell 'Sheet'.A6>,\n",
       " <Cell 'Sheet'.A7>,\n",
       " <Cell 'Sheet'.A8>,\n",
       " <Cell 'Sheet'.A9>,\n",
       " <Cell 'Sheet'.A10>,\n",
       " <Cell 'Sheet'.A11>,\n",
       " <Cell 'Sheet'.A12>,\n",
       " <Cell 'Sheet'.A13>,\n",
       " <Cell 'Sheet'.A14>,\n",
       " <Cell 'Sheet'.A15>,\n",
       " <Cell 'Sheet'.A16>,\n",
       " <Cell 'Sheet'.A17>,\n",
       " <Cell 'Sheet'.A18>,\n",
       " <Cell 'Sheet'.A19>,\n",
       " <Cell 'Sheet'.A20>,\n",
       " <Cell 'Sheet'.A21>,\n",
       " <Cell 'Sheet'.A22>,\n",
       " <Cell 'Sheet'.A23>,\n",
       " <Cell 'Sheet'.A24>)"
      ]
     },
     "execution_count": 38,
     "metadata": {},
     "output_type": "execute_result"
    }
   ],
   "source": [
    "sheet['A']"
   ]
  },
  {
   "cell_type": "code",
   "execution_count": 39,
   "id": "fe64a899-b42f-46aa-b267-5b258dbf438f",
   "metadata": {},
   "outputs": [
    {
     "data": {
      "text/plain": [
       "'2017.12.1'"
      ]
     },
     "execution_count": 39,
     "metadata": {},
     "output_type": "execute_result"
    }
   ],
   "source": [
    "sheet['A'][0].value"
   ]
  },
  {
   "cell_type": "markdown",
   "id": "4326a1be-f185-4a38-873e-32291c8311f8",
   "metadata": {},
   "source": [
    "## 데이터를 선택적으로 읽기"
   ]
  },
  {
   "cell_type": "code",
   "execution_count": 47,
   "id": "37582d9d-86fd-4d42-a067-19586e385b81",
   "metadata": {},
   "outputs": [
    {
     "name": "stdout",
     "output_type": "stream",
     "text": [
      "2017.12.1\n",
      " 0:00:00\n",
      "log-data at '2017-12-1  0:00:00'\n",
      "2017.12.1\n",
      " 1:00:00\n",
      "log-data at '2017-12-1  1:00:00'\n"
     ]
    }
   ],
   "source": [
    "rows = sheet['1:2']\n",
    "for row in rows:\n",
    "    for cell in row:\n",
    "        print(cell.value)"
   ]
  },
  {
   "cell_type": "code",
   "execution_count": 49,
   "id": "6c4eacde-58ef-4c17-8898-8cc8baafab1b",
   "metadata": {},
   "outputs": [
    {
     "name": "stdout",
     "output_type": "stream",
     "text": [
      "2017.12.1\n",
      " 1:00:00\n",
      "2017.12.1\n",
      " 2:00:00\n"
     ]
    }
   ],
   "source": [
    "rows = sheet['A2:B3']\n",
    "for row in rows:\n",
    "    for cell in row:\n",
    "        print(cell.value)"
   ]
  },
  {
   "cell_type": "markdown",
   "id": "3e11325e-fc22-44a4-9055-b4d12dfce3e9",
   "metadata": {},
   "source": [
    "## 연습문제: 모든 행과 열의 데이터를 다음과 같이 출력해보시오"
   ]
  },
  {
   "cell_type": "code",
   "execution_count": 15,
   "id": "584085a2-a046-4e26-88ba-a01dc5d07975",
   "metadata": {
    "tags": []
   },
   "outputs": [
    {
     "name": "stdout",
     "output_type": "stream",
     "text": [
      "2017.12.1\n",
      " 0:00:00\n",
      "log-data at '2017-12-1  0:00:00'\n",
      "==========end of row==========\n",
      "2017.12.1\n",
      " 1:00:00\n",
      "log-data at '2017-12-1  1:00:00'\n",
      "==========end of row==========\n",
      "2017.12.1\n",
      " 2:00:00\n",
      "log-data at '2017-12-1  2:00:00'\n",
      "==========end of row==========\n",
      "2017.12.1\n",
      " 3:00:00\n",
      "log-data at '2017-12-1  3:00:00'\n",
      "==========end of row==========\n",
      "2017.12.1\n",
      " 4:00:00\n",
      "log-data at '2017-12-1  4:00:00'\n",
      "==========end of row==========\n",
      "2017.12.1\n",
      " 5:00:00\n",
      "log-data at '2017-12-1  5:00:00'\n",
      "==========end of row==========\n",
      "2017.12.1\n",
      " 6:00:00\n",
      "log-data at '2017-12-1  6:00:00'\n",
      "==========end of row==========\n",
      "2017.12.1\n",
      " 7:00:00\n",
      "log-data at '2017-12-1  7:00:00'\n",
      "==========end of row==========\n",
      "2017.12.1\n",
      " 8:00:00\n",
      "log-data at '2017-12-1  8:00:00'\n",
      "==========end of row==========\n",
      "2017.12.1\n",
      " 9:00:00\n",
      "log-data at '2017-12-1  9:00:00'\n",
      "==========end of row==========\n",
      "2017.12.1\n",
      "10:00:00\n",
      "log-data at '2017-12-1 10:00:00'\n",
      "==========end of row==========\n",
      "2017.12.1\n",
      "11:00:00\n",
      "log-data at '2017-12-1 11:00:00'\n",
      "==========end of row==========\n",
      "2017.12.1\n",
      "12:00:00\n",
      "log-data at '2017-12-1 12:00:00'\n",
      "==========end of row==========\n",
      "2017.12.1\n",
      "13:00:00\n",
      "log-data at '2017-12-1 13:00:00'\n",
      "==========end of row==========\n",
      "2017.12.1\n",
      "14:00:00\n",
      "log-data at '2017-12-1 14:00:00'\n",
      "==========end of row==========\n",
      "2017.12.1\n",
      "15:00:00\n",
      "log-data at '2017-12-1 15:00:00'\n",
      "==========end of row==========\n",
      "2017.12.1\n",
      "16:00:00\n",
      "log-data at '2017-12-1 16:00:00'\n",
      "==========end of row==========\n",
      "2017.12.1\n",
      "17:00:00\n",
      "log-data at '2017-12-1 17:00:00'\n",
      "==========end of row==========\n",
      "2017.12.1\n",
      "18:00:00\n",
      "log-data at '2017-12-1 18:00:00'\n",
      "==========end of row==========\n",
      "2017.12.1\n",
      "19:00:00\n",
      "log-data at '2017-12-1 19:00:00'\n",
      "==========end of row==========\n",
      "2017.12.1\n",
      "20:00:00\n",
      "log-data at '2017-12-1 20:00:00'\n",
      "==========end of row==========\n",
      "2017.12.1\n",
      "21:00:00\n",
      "log-data at '2017-12-1 21:00:00'\n",
      "==========end of row==========\n",
      "2017.12.1\n",
      "22:00:00\n",
      "log-data at '2017-12-1 22:00:00'\n",
      "==========end of row==========\n",
      "2017.12.1\n",
      "23:00:00\n",
      "log-data at '2017-12-1 23:00:00'\n",
      "==========end of row==========\n"
     ]
    }
   ],
   "source": [
    "for row in sheet.iter_rows():\n",
    "    for cell in row:\n",
    "        print(cell.value)\n",
    "    print(\"=\"*10+\"end of row\"+\"=\"*10)\n",
    "    "
   ]
  },
  {
   "cell_type": "code",
   "execution_count": 16,
   "id": "9932faf6-16cd-4a66-b80a-dde741c5c6d4",
   "metadata": {
    "tags": []
   },
   "outputs": [
    {
     "name": "stdout",
     "output_type": "stream",
     "text": [
      "2017.12.1\n",
      "2017.12.1\n",
      "2017.12.1\n",
      "2017.12.1\n",
      "2017.12.1\n",
      "2017.12.1\n",
      "2017.12.1\n",
      "2017.12.1\n",
      "2017.12.1\n",
      "2017.12.1\n",
      "2017.12.1\n",
      "2017.12.1\n",
      "2017.12.1\n",
      "2017.12.1\n",
      "2017.12.1\n",
      "2017.12.1\n",
      "2017.12.1\n",
      "2017.12.1\n",
      "2017.12.1\n",
      "2017.12.1\n",
      "2017.12.1\n",
      "2017.12.1\n",
      "2017.12.1\n",
      "2017.12.1\n",
      "==========end of column==========\n",
      " 0:00:00\n",
      " 1:00:00\n",
      " 2:00:00\n",
      " 3:00:00\n",
      " 4:00:00\n",
      " 5:00:00\n",
      " 6:00:00\n",
      " 7:00:00\n",
      " 8:00:00\n",
      " 9:00:00\n",
      "10:00:00\n",
      "11:00:00\n",
      "12:00:00\n",
      "13:00:00\n",
      "14:00:00\n",
      "15:00:00\n",
      "16:00:00\n",
      "17:00:00\n",
      "18:00:00\n",
      "19:00:00\n",
      "20:00:00\n",
      "21:00:00\n",
      "22:00:00\n",
      "23:00:00\n",
      "==========end of column==========\n",
      "log-data at '2017-12-1  0:00:00'\n",
      "log-data at '2017-12-1  1:00:00'\n",
      "log-data at '2017-12-1  2:00:00'\n",
      "log-data at '2017-12-1  3:00:00'\n",
      "log-data at '2017-12-1  4:00:00'\n",
      "log-data at '2017-12-1  5:00:00'\n",
      "log-data at '2017-12-1  6:00:00'\n",
      "log-data at '2017-12-1  7:00:00'\n",
      "log-data at '2017-12-1  8:00:00'\n",
      "log-data at '2017-12-1  9:00:00'\n",
      "log-data at '2017-12-1 10:00:00'\n",
      "log-data at '2017-12-1 11:00:00'\n",
      "log-data at '2017-12-1 12:00:00'\n",
      "log-data at '2017-12-1 13:00:00'\n",
      "log-data at '2017-12-1 14:00:00'\n",
      "log-data at '2017-12-1 15:00:00'\n",
      "log-data at '2017-12-1 16:00:00'\n",
      "log-data at '2017-12-1 17:00:00'\n",
      "log-data at '2017-12-1 18:00:00'\n",
      "log-data at '2017-12-1 19:00:00'\n",
      "log-data at '2017-12-1 20:00:00'\n",
      "log-data at '2017-12-1 21:00:00'\n",
      "log-data at '2017-12-1 22:00:00'\n",
      "log-data at '2017-12-1 23:00:00'\n",
      "==========end of column==========\n"
     ]
    }
   ],
   "source": [
    "for col in sheet.iter_cols():\n",
    "    for cell in col:\n",
    "        print(cell.value)\n",
    "    print(\"=\"*10+\"end of column\"+\"=\"*10)"
   ]
  },
  {
   "cell_type": "markdown",
   "id": "843f848f-00fb-4e7e-90df-563831323dd1",
   "metadata": {},
   "source": [
    "## 연습문제\n",
    "엑셀 데이터를 읽어 다음처럼 나오게 실행해보시오"
   ]
  },
  {
   "cell_type": "code",
   "execution_count": 50,
   "id": "e6a50e56-c165-493b-a504-039301db88cd",
   "metadata": {},
   "outputs": [
    {
     "name": "stdout",
     "output_type": "stream",
     "text": [
      "[['2017.12.1', ' 0:00:00', \"log-data at '2017-12-1  0:00:00'\"], ['2017.12.1', ' 1:00:00', \"log-data at '2017-12-1  1:00:00'\"], ['2017.12.1', ' 2:00:00', \"log-data at '2017-12-1  2:00:00'\"], ['2017.12.1', ' 3:00:00', \"log-data at '2017-12-1  3:00:00'\"], ['2017.12.1', ' 4:00:00', \"log-data at '2017-12-1  4:00:00'\"], ['2017.12.1', ' 5:00:00', \"log-data at '2017-12-1  5:00:00'\"], ['2017.12.1', ' 6:00:00', \"log-data at '2017-12-1  6:00:00'\"], ['2017.12.1', ' 7:00:00', \"log-data at '2017-12-1  7:00:00'\"], ['2017.12.1', ' 8:00:00', \"log-data at '2017-12-1  8:00:00'\"], ['2017.12.1', ' 9:00:00', \"log-data at '2017-12-1  9:00:00'\"], ['2017.12.1', '10:00:00', \"log-data at '2017-12-1 10:00:00'\"], ['2017.12.1', '11:00:00', \"log-data at '2017-12-1 11:00:00'\"], ['2017.12.1', '12:00:00', \"log-data at '2017-12-1 12:00:00'\"], ['2017.12.1', '13:00:00', \"log-data at '2017-12-1 13:00:00'\"], ['2017.12.1', '14:00:00', \"log-data at '2017-12-1 14:00:00'\"], ['2017.12.1', '15:00:00', \"log-data at '2017-12-1 15:00:00'\"], ['2017.12.1', '16:00:00', \"log-data at '2017-12-1 16:00:00'\"], ['2017.12.1', '17:00:00', \"log-data at '2017-12-1 17:00:00'\"], ['2017.12.1', '18:00:00', \"log-data at '2017-12-1 18:00:00'\"], ['2017.12.1', '19:00:00', \"log-data at '2017-12-1 19:00:00'\"], ['2017.12.1', '20:00:00', \"log-data at '2017-12-1 20:00:00'\"], ['2017.12.1', '21:00:00', \"log-data at '2017-12-1 21:00:00'\"], ['2017.12.1', '22:00:00', \"log-data at '2017-12-1 22:00:00'\"], ['2017.12.1', '23:00:00', \"log-data at '2017-12-1 23:00:00'\"]]\n"
     ]
    }
   ],
   "source": [
    "result = []\n",
    "for row in sheet.rows:\n",
    "    temp = []\n",
    "    for cell in row:\n",
    "        temp.append(cell.value)\n",
    "    result.append(temp)\n",
    "    \n",
    "print(result)\n",
    "        "
   ]
  },
  {
   "cell_type": "markdown",
   "id": "8e24537b-f676-449c-9e4a-d2980a1ea6a8",
   "metadata": {},
   "source": [
    "## 연습문제2"
   ]
  },
  {
   "cell_type": "code",
   "execution_count": 63,
   "id": "4e6a6b8e-5f7c-4004-b81e-16ec292200c4",
   "metadata": {},
   "outputs": [
    {
     "data": {
      "text/plain": [
       "{1: ['2017.12.1', ' 0:00:00', \"log-data at '2017-12-1  0:00:00'\"],\n",
       " 2: ['2017.12.1', ' 1:00:00', \"log-data at '2017-12-1  1:00:00'\"],\n",
       " 3: ['2017.12.1', ' 2:00:00', \"log-data at '2017-12-1  2:00:00'\"],\n",
       " 4: ['2017.12.1', ' 3:00:00', \"log-data at '2017-12-1  3:00:00'\"],\n",
       " 5: ['2017.12.1', ' 4:00:00', \"log-data at '2017-12-1  4:00:00'\"],\n",
       " 6: ['2017.12.1', ' 5:00:00', \"log-data at '2017-12-1  5:00:00'\"],\n",
       " 7: ['2017.12.1', ' 6:00:00', \"log-data at '2017-12-1  6:00:00'\"],\n",
       " 8: ['2017.12.1', ' 7:00:00', \"log-data at '2017-12-1  7:00:00'\"],\n",
       " 9: ['2017.12.1', ' 8:00:00', \"log-data at '2017-12-1  8:00:00'\"],\n",
       " 10: ['2017.12.1', ' 9:00:00', \"log-data at '2017-12-1  9:00:00'\"],\n",
       " 11: ['2017.12.1', '10:00:00', \"log-data at '2017-12-1 10:00:00'\"],\n",
       " 12: ['2017.12.1', '11:00:00', \"log-data at '2017-12-1 11:00:00'\"],\n",
       " 13: ['2017.12.1', '12:00:00', \"log-data at '2017-12-1 12:00:00'\"],\n",
       " 14: ['2017.12.1', '13:00:00', \"log-data at '2017-12-1 13:00:00'\"],\n",
       " 15: ['2017.12.1', '14:00:00', \"log-data at '2017-12-1 14:00:00'\"],\n",
       " 16: ['2017.12.1', '15:00:00', \"log-data at '2017-12-1 15:00:00'\"],\n",
       " 17: ['2017.12.1', '16:00:00', \"log-data at '2017-12-1 16:00:00'\"],\n",
       " 18: ['2017.12.1', '17:00:00', \"log-data at '2017-12-1 17:00:00'\"],\n",
       " 19: ['2017.12.1', '18:00:00', \"log-data at '2017-12-1 18:00:00'\"],\n",
       " 20: ['2017.12.1', '19:00:00', \"log-data at '2017-12-1 19:00:00'\"],\n",
       " 21: ['2017.12.1', '20:00:00', \"log-data at '2017-12-1 20:00:00'\"],\n",
       " 22: ['2017.12.1', '21:00:00', \"log-data at '2017-12-1 21:00:00'\"],\n",
       " 23: ['2017.12.1', '22:00:00', \"log-data at '2017-12-1 22:00:00'\"],\n",
       " 24: ['2017.12.1', '23:00:00', \"log-data at '2017-12-1 23:00:00'\"]}"
      ]
     },
     "execution_count": 63,
     "metadata": {},
     "output_type": "execute_result"
    }
   ],
   "source": [
    "# 엑셀 데이터를 읽어 다음처럼 나오게 실행해보시오\n",
    "result = {}\n",
    "count = 1\n",
    "for row in sheet.rows:\n",
    "    temp = []\n",
    "    for cell in row:\n",
    "        temp.append(cell.value)\n",
    "    result[count] = temp\n",
    "    count += 1 \n",
    "result\n"
   ]
  }
 ],
 "metadata": {
  "kernelspec": {
   "display_name": "Python 3 (ipykernel)",
   "language": "python",
   "name": "python3"
  },
  "language_info": {
   "codemirror_mode": {
    "name": "ipython",
    "version": 3
   },
   "file_extension": ".py",
   "mimetype": "text/x-python",
   "name": "python",
   "nbconvert_exporter": "python",
   "pygments_lexer": "ipython3",
   "version": "3.8.10"
  }
 },
 "nbformat": 4,
 "nbformat_minor": 5
}
