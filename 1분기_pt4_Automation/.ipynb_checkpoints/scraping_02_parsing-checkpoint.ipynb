{
 "cells": [
  {
   "cell_type": "code",
   "execution_count": 14,
   "id": "2b1c011b-8f1c-4ecf-891f-0e27012b070a",
   "metadata": {},
   "outputs": [],
   "source": [
    "from bs4 import BeautifulSoup\n",
    "\n",
    "html = \"\"\"\n",
    "<html>\n",
    "  <head>\n",
    "    <title>My Webpage</title>\n",
    "  </head>\n",
    "  <body>\n",
    "    <h1>Welcome to my webpage</h1>\n",
    "    <div id=\"content\">\n",
    "      <p class=\"first\">This is a paragraph.</p>\n",
    "      <p class=\"second\">This is another paragraph.</p>\n",
    "    </div>\n",
    "  </body>\n",
    "</html>\n",
    "\"\"\"\n",
    "\n",
    "soup = BeautifulSoup(html, \"html.parser\")"
   ]
  },
  {
   "cell_type": "code",
   "execution_count": 15,
   "id": "b054948e-79f7-420e-9034-caf13955fb9d",
   "metadata": {},
   "outputs": [
    {
     "name": "stdout",
     "output_type": "stream",
     "text": [
      "Welcome to my webpage\n"
     ]
    }
   ],
   "source": [
    "# h1 태그 내부의 텍스트 추출\n",
    "h1_tag = soup.find(\"h1\")\n",
    "print(h1_tag.text)"
   ]
  },
  {
   "cell_type": "code",
   "execution_count": 16,
   "id": "a07002d1-245a-49cd-bf9f-03f5d05e5498",
   "metadata": {},
   "outputs": [
    {
     "name": "stdout",
     "output_type": "stream",
     "text": [
      "This is a paragraph.\n"
     ]
    }
   ],
   "source": [
    "# 첫 번째 p 태그 내부의 텍스트 추출\n",
    "p_tag = soup.find(\"p\")\n",
    "print(p_tag.text)"
   ]
  },
  {
   "cell_type": "code",
   "execution_count": 17,
   "id": "4dd01d1f-a986-4292-91a1-ac2569c3ac27",
   "metadata": {},
   "outputs": [
    {
     "name": "stdout",
     "output_type": "stream",
     "text": [
      "This is a paragraph.\n",
      "This is another paragraph.\n"
     ]
    }
   ],
   "source": [
    "# 모든 p 태그 내부의 텍스트 추출\n",
    "p_tags = soup.find_all(\"p\")\n",
    "for p_tag in p_tags:\n",
    "    print(p_tag.text)"
   ]
  },
  {
   "cell_type": "code",
   "execution_count": 18,
   "id": "48a673cf-5d74-4f2a-8e76-9bb38fd6d2de",
   "metadata": {},
   "outputs": [
    {
     "name": "stdout",
     "output_type": "stream",
     "text": [
      "This is a paragraph.\n"
     ]
    }
   ],
   "source": [
    "# id가 content인 div 태그 내부의 첫 번째 p 태그 내부의 텍스트 추출\n",
    "div_tag = soup.find(\"div\", {\"id\": \"content\"})\n",
    "p_tag = div_tag.find(\"p\")\n",
    "print(p_tag.text)"
   ]
  },
  {
   "cell_type": "code",
   "execution_count": 22,
   "id": "07325635-8307-4e28-a96f-c93603ab6f92",
   "metadata": {},
   "outputs": [
    {
     "name": "stdout",
     "output_type": "stream",
     "text": [
      "This is a paragraph.\n",
      "This is another paragraph.\n"
     ]
    }
   ],
   "source": [
    "# id가 content인 div 태그 내부의 p를 가진 모든 태그들의 텍스트 추출\n",
    "div_tag = soup.find(\"div\", {\"id\": \"content\"})\n",
    "p_tag = div_tag.find_all(\"p\")\n",
    "for i in p_tag:\n",
    "    print(i.text)"
   ]
  },
  {
   "cell_type": "code",
   "execution_count": 23,
   "id": "c73e80c0-978a-484c-8826-687ea3d52a5f",
   "metadata": {},
   "outputs": [
    {
     "name": "stdout",
     "output_type": "stream",
     "text": [
      "This is a paragraph.\n"
     ]
    }
   ],
   "source": [
    "# id가 content인 div 태그 내부의 p를 가진 모든 태그들의 텍스트 추출\n",
    "div_tag = soup.find(\"div\", {\"id\": \"content\"})\n",
    "p_tag = div_tag.find_all(\"p\",{\"class\": \"first\"})\n",
    "for i in p_tag:\n",
    "    print(i.text)"
   ]
  }
 ],
 "metadata": {
  "kernelspec": {
   "display_name": "Python 3 (ipykernel)",
   "language": "python",
   "name": "python3"
  },
  "language_info": {
   "codemirror_mode": {
    "name": "ipython",
    "version": 3
   },
   "file_extension": ".py",
   "mimetype": "text/x-python",
   "name": "python",
   "nbconvert_exporter": "python",
   "pygments_lexer": "ipython3",
   "version": "3.8.10"
  }
 },
 "nbformat": 4,
 "nbformat_minor": 5
}
