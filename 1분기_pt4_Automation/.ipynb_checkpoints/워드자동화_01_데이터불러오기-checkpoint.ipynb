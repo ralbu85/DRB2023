{
 "cells": [
  {
   "cell_type": "code",
   "execution_count": 3,
   "id": "299fc00e-41da-4508-aa7a-399ee81de2d6",
   "metadata": {
    "tags": []
   },
   "outputs": [
    {
     "name": "stdout",
     "output_type": "stream",
     "text": [
      "Collecting python-docx\n",
      "  Downloading python-docx-0.8.11.tar.gz (5.6 MB)\n",
      "     ---------------------------------------- 5.6/5.6 MB 10.5 MB/s eta 0:00:00\n",
      "  Preparing metadata (setup.py): started\n",
      "  Preparing metadata (setup.py): finished with status 'done'\n",
      "Collecting lxml>=2.3.2\n",
      "  Downloading lxml-4.9.2-cp310-cp310-win_amd64.whl (3.8 MB)\n",
      "     ---------------------------------------- 3.8/3.8 MB 9.6 MB/s eta 0:00:00\n",
      "Using legacy 'setup.py install' for python-docx, since package 'wheel' is not installed.\n",
      "Installing collected packages: lxml, python-docx\n",
      "  Running setup.py install for python-docx: started\n",
      "  Running setup.py install for python-docx: finished with status 'done'\n",
      "Successfully installed lxml-4.9.2 python-docx-0.8.11\n"
     ]
    },
    {
     "name": "stderr",
     "output_type": "stream",
     "text": [
      "WARNING: You are using pip version 22.0.4; however, version 23.1.2 is available.\n",
      "You should consider upgrading via the 'C:\\Python310\\python.exe -m pip install --upgrade pip' command.\n"
     ]
    }
   ],
   "source": [
    "!pip install python-docx"
   ]
  },
  {
   "cell_type": "code",
   "execution_count": 22,
   "id": "0c112a49-62be-4eec-8893-bda17b3e760f",
   "metadata": {
    "tags": []
   },
   "outputs": [],
   "source": [
    "from docx import Document # 문서 열기\n",
    "from docx.enum.text import WD_PARAGRAPH_ALIGNMENT # 문단 정렬\n",
    "from docx.enum.style import WD_STYLE_TYPE # 스타일\n",
    "from docx.shared import Pt"
   ]
  },
  {
   "cell_type": "markdown",
   "id": "1842ffdc-5f2e-4ea3-afa3-fd819dd69c1d",
   "metadata": {},
   "source": [
    "## 새 워드 문서 만들기"
   ]
  },
  {
   "cell_type": "code",
   "execution_count": 55,
   "id": "ce4b2bce-960a-492f-a68f-f084b661dfe8",
   "metadata": {
    "tags": []
   },
   "outputs": [],
   "source": [
    "doc = Document()\n",
    "doc.save(\"파일명.docx\")"
   ]
  },
  {
   "cell_type": "markdown",
   "id": "725773ab-91a5-4148-9842-26d1ae53b815",
   "metadata": {},
   "source": [
    "## 워드 작성해보기\n",
    "* add_paragraph를 통해 문단단위로 텍스트를 추가한다"
   ]
  },
  {
   "cell_type": "code",
   "execution_count": 56,
   "id": "03e3c855-5e4f-413b-985f-4842e7863e2f",
   "metadata": {
    "tags": []
   },
   "outputs": [],
   "source": [
    "# 헤딩(문단1) 넣기\n",
    "doc.add_heading('가장 큰 제목', level=0)\n",
    "doc.save(\"파일명.docx\")"
   ]
  },
  {
   "cell_type": "code",
   "execution_count": 57,
   "id": "11d6d810-9870-431f-af7e-7f2ab5cb6c35",
   "metadata": {
    "tags": []
   },
   "outputs": [],
   "source": [
    "# 문단2 넣기\n",
    "doc.add_paragraph('여기에 원하는 텍스트를 마음껏 입력하면 됩니다.')\n",
    "doc.save(\"파일명.docx\")"
   ]
  },
  {
   "cell_type": "code",
   "execution_count": 58,
   "id": "593e2ef9-c6ef-43f1-934d-6aae0d5baa71",
   "metadata": {
    "tags": []
   },
   "outputs": [],
   "source": [
    "# 문단3 넣기\n",
    "doc.add_paragraph('두번째 문단입니다.')\n",
    "doc.save(\"파일명.docx\")"
   ]
  },
  {
   "cell_type": "code",
   "execution_count": 59,
   "id": "5358f4e6-47c7-4dd9-a2b6-cff433861f1e",
   "metadata": {
    "tags": []
   },
   "outputs": [],
   "source": [
    "# 문단3 넣기\n",
    "# 문단을 만들고 문장단위로 넣을수도 있다.\n",
    "# add_run을 사용한다\n",
    "p = doc.add_paragraph()\n",
    "p.add_run(\"문장1 입니다.\") #문장1\n",
    "p.add_run(\"문장2 입니다.\") #문장2\n",
    "p.add_run(\"문장3 입니다.\") #문장3\n",
    "doc.save(\"파일명.docx\")"
   ]
  },
  {
   "cell_type": "markdown",
   "id": "05f8e3df-19b3-4acd-9d44-b1bda99579d0",
   "metadata": {},
   "source": [
    "## 문단 확인하기 (Paragraph)"
   ]
  },
  {
   "cell_type": "code",
   "execution_count": 60,
   "id": "c7d1cf8f-cda4-45f5-8ff6-dcda451d384a",
   "metadata": {
    "tags": []
   },
   "outputs": [
    {
     "data": {
      "text/plain": [
       "[<docx.text.paragraph.Paragraph at 0x1fb2aabf7c0>,\n",
       " <docx.text.paragraph.Paragraph at 0x1fb2aabfa90>,\n",
       " <docx.text.paragraph.Paragraph at 0x1fb2aabfa30>,\n",
       " <docx.text.paragraph.Paragraph at 0x1fb2aabf520>]"
      ]
     },
     "execution_count": 60,
     "metadata": {},
     "output_type": "execute_result"
    }
   ],
   "source": [
    "paras = doc.paragraphs\n",
    "paras"
   ]
  },
  {
   "cell_type": "code",
   "execution_count": 61,
   "id": "7d9bc1aa-0483-441e-9b24-d6341e574df3",
   "metadata": {
    "tags": []
   },
   "outputs": [
    {
     "name": "stdout",
     "output_type": "stream",
     "text": [
      "가장 큰 제목\n",
      "여기에 원하는 텍스트를 마음껏 입력하면 됩니다.\n",
      "두번째 문단입니다.\n",
      "문장1 입니다.문장2 입니다.문장3 입니다.\n"
     ]
    }
   ],
   "source": [
    "for para in paras:\n",
    "    print(para.text)"
   ]
  },
  {
   "cell_type": "markdown",
   "id": "db9b2a30-627c-43df-ae37-df74447a5d75",
   "metadata": {},
   "source": [
    "## 특정 문단에 문장 (Runs) 확인하기"
   ]
  },
  {
   "cell_type": "code",
   "execution_count": 62,
   "id": "a302878c-cda6-4bac-b792-1523acfe52d5",
   "metadata": {
    "tags": []
   },
   "outputs": [
    {
     "data": {
      "text/plain": [
       "[<docx.text.run.Run at 0x1fb2aabfc40>,\n",
       " <docx.text.run.Run at 0x1fb2aabe6b0>,\n",
       " <docx.text.run.Run at 0x1fb2a5fb220>]"
      ]
     },
     "execution_count": 62,
     "metadata": {},
     "output_type": "execute_result"
    }
   ],
   "source": [
    "paras[3].runs"
   ]
  },
  {
   "cell_type": "code",
   "execution_count": 63,
   "id": "ea94057a-b8ee-4421-8f6b-87c17b05c65d",
   "metadata": {
    "tags": []
   },
   "outputs": [
    {
     "name": "stdout",
     "output_type": "stream",
     "text": [
      "문장1 입니다.\n",
      "문장2 입니다.\n",
      "문장3 입니다.\n"
     ]
    }
   ],
   "source": [
    "for run in paras[3].runs:\n",
    "    print(run.text)"
   ]
  },
  {
   "cell_type": "markdown",
   "id": "1a890a70-d6ef-478f-94e9-13d14108406f",
   "metadata": {
    "tags": []
   },
   "source": [
    "## 스타일 바꾸기\n",
    "\n",
    "* 스타일은 run단위로 바꾼다"
   ]
  },
  {
   "cell_type": "code",
   "execution_count": 65,
   "id": "72c436df-3d13-4656-bbab-2a32a8974e83",
   "metadata": {
    "tags": []
   },
   "outputs": [],
   "source": [
    "# 세번째 문단의 첫번째 문장 선택\n",
    "run = paras[3].runs[0]\n",
    "run.bold = True\n",
    "run.italic = True\n",
    "run.font.name = 'Arial'\n",
    "run.font.size = Pt(12)\n",
    "doc.save(\"파일명.docx\")\n"
   ]
  }
 ],
 "metadata": {
  "kernelspec": {
   "display_name": "Python 3 (ipykernel)",
   "language": "python",
   "name": "python3"
  },
  "language_info": {
   "codemirror_mode": {
    "name": "ipython",
    "version": 3
   },
   "file_extension": ".py",
   "mimetype": "text/x-python",
   "name": "python",
   "nbconvert_exporter": "python",
   "pygments_lexer": "ipython3",
   "version": "3.10.4"
  }
 },
 "nbformat": 4,
 "nbformat_minor": 5
}
