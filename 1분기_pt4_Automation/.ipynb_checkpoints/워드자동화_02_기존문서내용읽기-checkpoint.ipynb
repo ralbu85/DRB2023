{
 "cells": [
  {
   "cell_type": "code",
   "execution_count": 1,
   "id": "ca2dc614-9bf2-4367-927c-5208c684b30a",
   "metadata": {
    "tags": []
   },
   "outputs": [],
   "source": [
    "from docx import Document"
   ]
  },
  {
   "cell_type": "code",
   "execution_count": 2,
   "id": "6cf78c04-3a14-4b41-8e2a-64ce66386a78",
   "metadata": {
    "tags": []
   },
   "outputs": [],
   "source": [
    "doc = Document(\"파일명.docx\")"
   ]
  },
  {
   "cell_type": "markdown",
   "id": "9ac37094-61f2-464f-bf51-7ec9003823d9",
   "metadata": {},
   "source": [
    "## 워드의 패러그래프 순회하기"
   ]
  },
  {
   "cell_type": "code",
   "execution_count": 3,
   "id": "f2e7192b-99e4-4677-99db-6764490edaf0",
   "metadata": {
    "tags": []
   },
   "outputs": [
    {
     "name": "stdout",
     "output_type": "stream",
     "text": [
      "1 가장 큰 제목\n",
      "2 여기에 원하는 텍스트를 마음껏 입력하면 됩니다.\n",
      "3 두번째 문단입니다.\n",
      "4 문장1 입니다.문장2 입니다.문장3 입니다.\n"
     ]
    }
   ],
   "source": [
    "for i, paragraph in enumerate(doc.paragraphs):\n",
    "    print(i+1, paragraph.text)"
   ]
  },
  {
   "cell_type": "markdown",
   "id": "401e1942-184f-44f9-89ea-46d13fe7ff08",
   "metadata": {
    "tags": []
   },
   "source": [
    "## 템플릿 고치기"
   ]
  },
  {
   "cell_type": "code",
   "execution_count": 32,
   "id": "2c2d3c56-e2fb-45fa-a748-daacf21fe815",
   "metadata": {},
   "outputs": [
    {
     "name": "stdout",
     "output_type": "stream",
     "text": [
      "0 {company}\n",
      "1 \n",
      "2 문서번호\t: {number}\n",
      "3 시행일자\t: {date}\n",
      "4 수신\t\t: {receiver}\n",
      "5 발신\t\t: {sender}\n",
      "6 제목\t\t: {title}\n",
      "7 \n",
      "8 공문을 보내니, 아래 내용과 같이 협조해주실 것을 요청합니다.\n",
      "9 -      아             래     -\n",
      "10 \n"
     ]
    }
   ],
   "source": [
    "doc = Document('wordfiles/template.docx')\n",
    "paras = doc.paragraphs\n",
    "for i, para in enumerate(paras):\n",
    "    print(i, para.text)"
   ]
  },
  {
   "cell_type": "code",
   "execution_count": 33,
   "id": "2d5b26b4-c42c-4842-9d18-c76217658b97",
   "metadata": {},
   "outputs": [
    {
     "data": {
      "text/plain": [
       "'{company}'"
      ]
     },
     "execution_count": 33,
     "metadata": {},
     "output_type": "execute_result"
    }
   ],
   "source": [
    "# 첫번째 패러그래프\n",
    "paras[0].text"
   ]
  },
  {
   "cell_type": "code",
   "execution_count": 34,
   "id": "41be8e5e-6730-41ea-838c-45b70262918b",
   "metadata": {
    "tags": []
   },
   "outputs": [],
   "source": [
    "paras[0].text = paras[0].text.replace('{company}', '주식회사 DRB') #기존것을 변경하기"
   ]
  },
  {
   "cell_type": "code",
   "execution_count": 36,
   "id": "c33626ed-f63b-4429-a80b-b5af8bb5ba2b",
   "metadata": {},
   "outputs": [],
   "source": [
    "# 추가대로 줄에 따라 바꾸기\n",
    "paras[2].text = paras[2].text.replace('{number}', '123-456-789')\n",
    "paras[3].text = paras[3].text.replace('{date}', '2022-12-12')\n",
    "paras[4].text = paras[4].text.replace('{receiver}', '부경대학교 산학협력단')\n",
    "paras[5].text = paras[5].text.replace('{sender}', '주식회사 DRB')\n",
    "paras[6].text = paras[6].text.replace('{title}', '사내 워크숍 진행으로 인한 업무 안내')"
   ]
  },
  {
   "cell_type": "code",
   "execution_count": 35,
   "id": "3e9df52e-04a4-494d-b379-a3a9c616cf83",
   "metadata": {},
   "outputs": [
    {
     "data": {
      "text/plain": [
       "<docx.text.paragraph.Paragraph at 0x1965332ebe0>"
      ]
     },
     "execution_count": 35,
     "metadata": {},
     "output_type": "execute_result"
    }
   ],
   "source": [
    "# 공문내용 추가하기\n",
    "doc.add_paragraph('''사내워크숍으로 2일간 전화 연결이 어려울 수 있습니다.\n",
    "문의사항이 있으면 jihwan@pknu.ac.kr로 연락주시기 바랍니다. 감사합니다.\n",
    "담당자 드림\n",
    "''')"
   ]
  },
  {
   "cell_type": "code",
   "execution_count": 37,
   "id": "cebb3b68-fb92-484d-b89c-db2c4ed468e9",
   "metadata": {},
   "outputs": [],
   "source": [
    "# 공문내용 또 추가하기\n",
    "p = doc.add_paragraph(style='List Number')\n",
    "p.add_run('일시\\t: ').bold = True\n",
    "p.add_run('2022-12-12 ~ 2022-12-13')\n",
    "\n",
    "p = doc.add_paragraph(style='List Number')\n",
    "p.add_run('긴급연락\\t: ').bold = True\n",
    "p.add_run('010-1234-5678')\n",
    "\n",
    "doc.save('template2.docx')\n"
   ]
  },
  {
   "cell_type": "markdown",
   "id": "9539cbc3-f1fa-4235-ad48-fac9723bf147",
   "metadata": {},
   "source": [
    "## 연습문제"
   ]
  }
 ],
 "metadata": {
  "kernelspec": {
   "display_name": "Python 3 (ipykernel)",
   "language": "python",
   "name": "python3"
  },
  "language_info": {
   "codemirror_mode": {
    "name": "ipython",
    "version": 3
   },
   "file_extension": ".py",
   "mimetype": "text/x-python",
   "name": "python",
   "nbconvert_exporter": "python",
   "pygments_lexer": "ipython3",
   "version": "3.10.4"
  }
 },
 "nbformat": 4,
 "nbformat_minor": 5
}
