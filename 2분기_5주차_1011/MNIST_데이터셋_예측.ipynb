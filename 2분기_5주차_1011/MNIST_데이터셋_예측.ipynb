{
  "nbformat": 4,
  "nbformat_minor": 0,
  "metadata": {
    "colab": {
      "provenance": []
    },
    "kernelspec": {
      "name": "python3",
      "display_name": "Python 3"
    },
    "language_info": {
      "name": "python"
    }
  },
  "cells": [
    {
      "cell_type": "code",
      "execution_count": 1,
      "metadata": {
        "id": "8PEbovAW4DHX"
      },
      "outputs": [],
      "source": [
        "from keras.datasets import mnist #데이터셋 불러오기\n",
        "from tensorflow.keras.utils import to_categorical #원핫 인코딩"
      ]
    },
    {
      "cell_type": "code",
      "source": [
        "# 데이터 불러오기\n",
        "(train_images, train_labels),(test_images, test_labels) = mnist.load_data()"
      ],
      "metadata": {
        "colab": {
          "base_uri": "https://localhost:8080/"
        },
        "id": "_bkScmia4j7q",
        "outputId": "2ede0018-24cc-4e5d-a491-0c49cd322946"
      },
      "execution_count": 2,
      "outputs": [
        {
          "output_type": "stream",
          "name": "stdout",
          "text": [
            "Downloading data from https://storage.googleapis.com/tensorflow/tf-keras-datasets/mnist.npz\n",
            "11490434/11490434 [==============================] - 1s 0us/step\n"
          ]
        }
      ]
    },
    {
      "cell_type": "code",
      "source": [
        "# 데이터셋 살펴보기\n",
        "train_images.shape\n",
        "# 60000: 그림이 60000장 있다.\n",
        "# 28: 그림의 가로 픽셀이 28개다\n",
        "# 28: 그림의 세로 픽셀이 28개다."
      ],
      "metadata": {
        "colab": {
          "base_uri": "https://localhost:8080/"
        },
        "id": "PKBEAKFQ5Ecb",
        "outputId": "83290eb7-9b77-4481-d406-3725ecd3da93"
      },
      "execution_count": 3,
      "outputs": [
        {
          "output_type": "execute_result",
          "data": {
            "text/plain": [
              "(60000, 28, 28)"
            ]
          },
          "metadata": {},
          "execution_count": 3
        }
      ]
    },
    {
      "cell_type": "code",
      "source": [
        "image = train_images[5] # 첫번째 그림"
      ],
      "metadata": {
        "id": "D2vzsAme5wgJ"
      },
      "execution_count": 4,
      "outputs": []
    },
    {
      "cell_type": "code",
      "source": [
        "import matplotlib.pyplot as plt\n",
        "plt.imshow(image), print(train_labels[5])"
      ],
      "metadata": {
        "colab": {
          "base_uri": "https://localhost:8080/",
          "height": 466
        },
        "id": "4AICCmBH5_OU",
        "outputId": "bd237c77-cfc2-46c8-f8f0-e6c5d5438dd5"
      },
      "execution_count": 5,
      "outputs": [
        {
          "output_type": "stream",
          "name": "stdout",
          "text": [
            "2\n"
          ]
        },
        {
          "output_type": "execute_result",
          "data": {
            "text/plain": [
              "(<matplotlib.image.AxesImage at 0x789b254c2bf0>, None)"
            ]
          },
          "metadata": {},
          "execution_count": 5
        },
        {
          "output_type": "display_data",
          "data": {
            "text/plain": [
              "<Figure size 640x480 with 1 Axes>"
            ],
            "image/png": "[encoded data removed]"
          },
          "metadata": {}
        }
      ]
    },
    {
      "cell_type": "markdown",
      "source": [
        "## 전처리"
      ],
      "metadata": {
        "id": "Xk2DohPI97dB"
      }
    },
    {
      "cell_type": "code",
      "source": [
        "# 데이터 스케일링\n",
        "# 모든 이미지 데이터의 픽셀 값을 0~1사이로 통일하기 위해 255로 나누어줌\n",
        "train_images = train_images/255.0\n",
        "test_images = test_images/255.0\n",
        "\n",
        "# 데이터의 차원변경\n",
        "# 입력노드에 입력할수 있도록 2차원 1차원으로 펴내어 표현\n",
        "train_images = train_images.reshape(60000,784) # (60000, 28, 28) -> (60000, 784)\n",
        "test_images = test_images.reshape(-1,784) # (10000, 28,28) -> (10000, 784)\n",
        "\n",
        "# 레이블을 원핫인코딩\n",
        "train_labels = to_categorical(train_labels)\n",
        "test_labels = to_categorical(test_labels)\n"
      ],
      "metadata": {
        "id": "gdmdHxIC99ZM"
      },
      "execution_count": 6,
      "outputs": []
    },
    {
      "cell_type": "code",
      "source": [
        "train_labels"
      ],
      "metadata": {
        "colab": {
          "base_uri": "https://localhost:8080/"
        },
        "id": "Fh_Dn_j3_0UN",
        "outputId": "c486c504-7ec9-4dfe-9294-61c8e286280c"
      },
      "execution_count": 7,
      "outputs": [
        {
          "output_type": "execute_result",
          "data": {
            "text/plain": [
              "array([[0., 0., 0., ..., 0., 0., 0.],\n",
              "       [1., 0., 0., ..., 0., 0., 0.],\n",
              "       [0., 0., 0., ..., 0., 0., 0.],\n",
              "       ...,\n",
              "       [0., 0., 0., ..., 0., 0., 0.],\n",
              "       [0., 0., 0., ..., 0., 0., 0.],\n",
              "       [0., 0., 0., ..., 0., 1., 0.]], dtype=float32)"
            ]
          },
          "metadata": {},
          "execution_count": 7
        }
      ]
    },
    {
      "cell_type": "markdown",
      "source": [
        "## 데이터 분할"
      ],
      "metadata": {
        "id": "vrxtmjMIDAPx"
      }
    },
    {
      "cell_type": "code",
      "source": [
        "from sklearn.model_selection import train_test_split"
      ],
      "metadata": {
        "id": "D0VEBH1FDyiJ"
      },
      "execution_count": 8,
      "outputs": []
    },
    {
      "cell_type": "code",
      "source": [
        "train_images, valid_images, train_labels, valid_labels = train_test_split(train_images, train_labels,\n",
        "                                                                              test_size=0.2,\n",
        "                                                                              shuffle=True)"
      ],
      "metadata": {
        "id": "96PXwkloD4Pz"
      },
      "execution_count": 9,
      "outputs": []
    },
    {
      "cell_type": "markdown",
      "source": [
        "## 모델만들기"
      ],
      "metadata": {
        "id": "cUwpn3kAFe9P"
      }
    },
    {
      "cell_type": "code",
      "source": [
        "from keras.models import Sequential # 층을 순서대로 쌓을때 사용하는 그릇\n",
        "from keras.layers import Dense # 퍼셉트론으로 이루어진 하나의 층"
      ],
      "metadata": {
        "id": "sMirgxu2GaKG"
      },
      "execution_count": 10,
      "outputs": []
    },
    {
      "cell_type": "code",
      "source": [
        "model = Sequential() # 그릇만들기"
      ],
      "metadata": {
        "id": "QDVu9v5MGyn-"
      },
      "execution_count": 11,
      "outputs": []
    },
    {
      "cell_type": "code",
      "source": [
        "model.add(Dense(128, input_dim=784, activation='relu')) # 784개의 입력노드 -> 128개의 출력노드로, 활성화 RELU\n",
        "model.add(Dense(10, activation='softmax')) # 128개의 입력노드 -> 10개의 출력노드, 확률이 출력되어야 하므로 Softmax"
      ],
      "metadata": {
        "id": "T8-Fq1vRG6YZ"
      },
      "execution_count": 12,
      "outputs": []
    },
    {
      "cell_type": "code",
      "source": [
        "model.summary()"
      ],
      "metadata": {
        "colab": {
          "base_uri": "https://localhost:8080/"
        },
        "id": "9V0fNl_dIQlE",
        "outputId": "7eccb552-bd7c-4273-d4cb-a7bde15209a9"
      },
      "execution_count": 13,
      "outputs": [
        {
          "output_type": "stream",
          "name": "stdout",
          "text": [
            "Model: \"sequential\"\n",
            "_________________________________________________________________\n",
            " Layer (type)                Output Shape              Param #   \n",
            "=================================================================\n",
            " dense (Dense)               (None, 128)               100480    \n",
            "                                                                 \n",
            " dense_1 (Dense)             (None, 10)                1290      \n",
            "                                                                 \n",
            "=================================================================\n",
            "Total params: 101770 (397.54 KB)\n",
            "Trainable params: 101770 (397.54 KB)\n",
            "Non-trainable params: 0 (0.00 Byte)\n",
            "_________________________________________________________________\n"
          ]
        }
      ]
    },
    {
      "cell_type": "markdown",
      "source": [
        "## 모델의 컴파일 & 학습"
      ],
      "metadata": {
        "id": "T4mKQLqOIfSD"
      }
    },
    {
      "cell_type": "code",
      "source": [
        "# 딥러닝의 학습계획 수립\n",
        "model.compile(optimizer='adam', loss='categorical_crossentropy', metrics=['accuracy'])\n",
        "# optimizer -> 학습률을 동적으로 조절하는 알고리즘\n",
        "# loss -> 딥러닝을 학습하는데 사용할 손실함수\n",
        "# metrics -> 딥러닝의 성능을 모니터링할때 (러닝커브 그릴때) 사용할 지표\n",
        "\n",
        "# 딥러닝의 학습\n",
        "history = model.fit(train_images, train_labels, # 학습할 데이터셋\n",
        "                    batch_size=32, # 미분(나침반)을 계산할때 한번에 몇개의 데이터를 사용할 것인가\n",
        "                    epochs=15, # 총 몇번 같은 데이터를 반복해서 학습을 시킬것인가\n",
        "                    validation_data=(valid_images, valid_labels)) #러닝커브에서 모델의 일반화 능력을 어떤 데이터로 측정할 것인가"
      ],
      "metadata": {
        "colab": {
          "base_uri": "https://localhost:8080/"
        },
        "id": "QxpJuC2cIkcl",
        "outputId": "05af5e2c-a49d-4e76-9574-0b7d8ba2979c"
      },
      "execution_count": 17,
      "outputs": [
        {
          "output_type": "stream",
          "name": "stdout",
          "text": [
            "Epoch 1/15\n",
            "1500/1500 [==============================] - 11s 6ms/step - loss: 0.0021 - accuracy: 0.9993 - val_loss: 0.1798 - val_accuracy: 0.9748\n",
            "Epoch 2/15\n",
            "1500/1500 [==============================] - 7s 4ms/step - loss: 0.0037 - accuracy: 0.9988 - val_loss: 0.1810 - val_accuracy: 0.9750\n",
            "Epoch 3/15\n",
            "1500/1500 [==============================] - 8s 6ms/step - loss: 0.0022 - accuracy: 0.9993 - val_loss: 0.1640 - val_accuracy: 0.9760\n",
            "Epoch 4/15\n",
            "1500/1500 [==============================] - 7s 5ms/step - loss: 0.0019 - accuracy: 0.9994 - val_loss: 0.1754 - val_accuracy: 0.9751\n",
            "Epoch 5/15\n",
            "1500/1500 [==============================] - 8s 5ms/step - loss: 0.0050 - accuracy: 0.9984 - val_loss: 0.1653 - val_accuracy: 0.9778\n",
            "Epoch 6/15\n",
            "1500/1500 [==============================] - 7s 5ms/step - loss: 0.0013 - accuracy: 0.9996 - val_loss: 0.1702 - val_accuracy: 0.9776\n",
            "Epoch 7/15\n",
            "1500/1500 [==============================] - 7s 5ms/step - loss: 0.0018 - accuracy: 0.9995 - val_loss: 0.1723 - val_accuracy: 0.9765\n",
            "Epoch 8/15\n",
            "1500/1500 [==============================] - 8s 5ms/step - loss: 0.0034 - accuracy: 0.9989 - val_loss: 0.1846 - val_accuracy: 0.9747\n",
            "Epoch 9/15\n",
            "1500/1500 [==============================] - 7s 4ms/step - loss: 0.0030 - accuracy: 0.9991 - val_loss: 0.1654 - val_accuracy: 0.9768\n",
            "Epoch 10/15\n",
            "1500/1500 [==============================] - 8s 5ms/step - loss: 0.0012 - accuracy: 0.9996 - val_loss: 0.1657 - val_accuracy: 0.9787\n",
            "Epoch 11/15\n",
            "1500/1500 [==============================] - 7s 4ms/step - loss: 0.0040 - accuracy: 0.9988 - val_loss: 0.1973 - val_accuracy: 0.9741\n",
            "Epoch 12/15\n",
            "1500/1500 [==============================] - 8s 5ms/step - loss: 0.0017 - accuracy: 0.9993 - val_loss: 0.1821 - val_accuracy: 0.9765\n",
            "Epoch 13/15\n",
            "1500/1500 [==============================] - 7s 5ms/step - loss: 7.9613e-04 - accuracy: 0.9998 - val_loss: 0.1873 - val_accuracy: 0.9764\n",
            "Epoch 14/15\n",
            "1500/1500 [==============================] - 7s 5ms/step - loss: 0.0032 - accuracy: 0.9991 - val_loss: 0.1953 - val_accuracy: 0.9753\n",
            "Epoch 15/15\n",
            "1500/1500 [==============================] - 8s 6ms/step - loss: 0.0030 - accuracy: 0.9989 - val_loss: 0.1855 - val_accuracy: 0.9753\n"
          ]
        }
      ]
    },
    {
      "cell_type": "markdown",
      "source": [
        "## 러닝커브"
      ],
      "metadata": {
        "id": "iLWuEhYhQCkS"
      }
    },
    {
      "cell_type": "code",
      "source": [
        "train_loss = history.history['loss'] #훈련데이터의 손실값\n",
        "val_loss = history.history['val_loss'] #검증데이터의 손실값\n",
        "train_acc = history.history['accuracy'] #훈련데이터의 정확도\n",
        "val_acc = history.history['val_accuracy'] #검증데이터의 정확도"
      ],
      "metadata": {
        "id": "-FhoDK4lQET9"
      },
      "execution_count": 18,
      "outputs": []
    },
    {
      "cell_type": "code",
      "source": [
        "import matplotlib.pyplot as plt\n",
        "plt.plot(train_loss, label='train_loss')\n",
        "plt.plot(val_loss, label='val_loss')\n",
        "plt.xlabel('Epochs') # X축 이름\n",
        "plt.ylabel('Loss') # y축 이름\n",
        "plt.legend() # 범례표시"
      ],
      "metadata": {
        "colab": {
          "base_uri": "https://localhost:8080/",
          "height": 467
        },
        "id": "rcsVDQYvRCpm",
        "outputId": "a1dd8230-708f-4a56-d02a-ac3fc4ea55a8"
      },
      "execution_count": 19,
      "outputs": [
        {
          "output_type": "execute_result",
          "data": {
            "text/plain": [
              "<matplotlib.legend.Legend at 0x789b041e49a0>"
            ]
          },
          "metadata": {},
          "execution_count": 19
        },
        {
          "output_type": "display_data",
          "data": {
            "text/plain": [
              "<Figure size 640x480 with 1 Axes>"
            ],
            "image/png": "[encoded data removed]"
          },
          "metadata": {}
        }
      ]
    },
    {
      "cell_type": "code",
      "source": [
        "import matplotlib.pyplot as plt\n",
        "plt.plot(train_acc, label='train_acc')\n",
        "plt.plot(val_acc, label='val_acc')\n",
        "plt.xlabel('Epochs') # X축 이름\n",
        "plt.ylabel('Accuracy') # y축 이름\n",
        "plt.legend() # 범례표시"
      ],
      "metadata": {
        "colab": {
          "base_uri": "https://localhost:8080/",
          "height": 467
        },
        "id": "UAuTZ9-8TEoc",
        "outputId": "779ec416-1bbc-4a85-b73e-6bd427c1a60d"
      },
      "execution_count": 20,
      "outputs": [
        {
          "output_type": "execute_result",
          "data": {
            "text/plain": [
              "<matplotlib.legend.Legend at 0x789b0a472890>"
            ]
          },
          "metadata": {},
          "execution_count": 20
        },
        {
          "output_type": "display_data",
          "data": {
            "text/plain": [
              "<Figure size 640x480 with 1 Axes>"
            ],
            "image/png": "[encoded data removed]"
          },
          "metadata": {}
        }
      ]
    },
    {
      "cell_type": "markdown",
      "source": [
        "## 최종 학습된 모델의 점검"
      ],
      "metadata": {
        "id": "L-nUrK5oTz2n"
      }
    },
    {
      "cell_type": "code",
      "source": [
        "model # 최종 학습된모델"
      ],
      "metadata": {
        "colab": {
          "base_uri": "https://localhost:8080/"
        },
        "id": "gEvHso9CT3on",
        "outputId": "f419e21c-138a-4e87-c70d-e13ae9d5107c"
      },
      "execution_count": 23,
      "outputs": [
        {
          "output_type": "execute_result",
          "data": {
            "text/plain": [
              "<keras.src.engine.sequential.Sequential at 0x789b041e4790>"
            ]
          },
          "metadata": {},
          "execution_count": 23
        }
      ]
    },
    {
      "cell_type": "code",
      "source": [
        "test_images.shape, test_labels.shape # 테스트 데이터셋의 크기"
      ],
      "metadata": {
        "colab": {
          "base_uri": "https://localhost:8080/"
        },
        "id": "V5XVtwuuULso",
        "outputId": "69150d6b-eea0-426b-8f81-d55c277c4038"
      },
      "execution_count": 24,
      "outputs": [
        {
          "output_type": "execute_result",
          "data": {
            "text/plain": [
              "((10000, 784), (10000, 10))"
            ]
          },
          "metadata": {},
          "execution_count": 24
        }
      ]
    },
    {
      "cell_type": "code",
      "source": [
        "y_prob = model.predict(test_images)\n",
        "y_prob # 이미지가 각각의 카테고리로 분류될 확률을 계산 (10000, 10)"
      ],
      "metadata": {
        "colab": {
          "base_uri": "https://localhost:8080/"
        },
        "id": "LyYPK1xlUVka",
        "outputId": "71a71d4c-ce16-43e5-e477-822c152d0b61"
      },
      "execution_count": 30,
      "outputs": [
        {
          "output_type": "stream",
          "name": "stdout",
          "text": [
            "313/313 [==============================] - 1s 2ms/step\n"
          ]
        },
        {
          "output_type": "execute_result",
          "data": {
            "text/plain": [
              "array([[6.2231836e-22, 8.8484864e-26, 1.7937184e-20, ..., 9.9999994e-01,\n",
              "        1.2561646e-27, 2.7735724e-18],\n",
              "       [6.1984216e-23, 6.6620351e-19, 9.9999994e-01, ..., 0.0000000e+00,\n",
              "        6.5846075e-23, 0.0000000e+00],\n",
              "       [2.4686113e-14, 9.9999934e-01, 1.8530648e-07, ..., 1.9216762e-07,\n",
              "        1.2886792e-07, 2.0947098e-12],\n",
              "       ...,\n",
              "       [5.1861571e-36, 1.2702035e-31, 8.9132536e-35, ..., 3.8919410e-18,\n",
              "        1.9215887e-15, 3.3024728e-15],\n",
              "       [5.5267443e-29, 0.0000000e+00, 2.3606855e-29, ..., 2.3425366e-30,\n",
              "        5.6332592e-13, 0.0000000e+00],\n",
              "       [3.3718943e-27, 0.0000000e+00, 5.9925656e-30, ..., 0.0000000e+00,\n",
              "        3.5272116e-26, 4.4701284e-38]], dtype=float32)"
            ]
          },
          "metadata": {},
          "execution_count": 30
        }
      ]
    },
    {
      "cell_type": "code",
      "source": [
        "import numpy as np\n",
        "y_pred = np.argmax(y_prob,axis=1) # 10개의 확률중에 가장 높은 확률값을 가진 카테고리를 반환"
      ],
      "metadata": {
        "id": "xdclrur8XasU"
      },
      "execution_count": 31,
      "outputs": []
    },
    {
      "cell_type": "code",
      "source": [
        "idx = 5556\n",
        "plt.imshow(test_images[idx].reshape(28,28)), y_pred[idx]"
      ],
      "metadata": {
        "colab": {
          "base_uri": "https://localhost:8080/",
          "height": 448
        },
        "id": "eQUBiocdYkB4",
        "outputId": "299b18ae-b009-433b-a126-0c067b6c6ca9"
      },
      "execution_count": 46,
      "outputs": [
        {
          "output_type": "execute_result",
          "data": {
            "text/plain": [
              "(<matplotlib.image.AxesImage at 0x789b1c86ead0>, 4)"
            ]
          },
          "metadata": {},
          "execution_count": 46
        },
        {
          "output_type": "display_data",
          "data": {
            "text/plain": [
              "<Figure size 640x480 with 1 Axes>"
            ],
            "image/png": "[encoded data removed]"
          },
          "metadata": {}
        }
      ]
    },
    {
      "cell_type": "markdown",
      "source": [
        "## 잘못분류한 데이터"
      ],
      "metadata": {
        "id": "zMuhcRbrZvDs"
      }
    },
    {
      "cell_type": "code",
      "source": [
        "y_pred # 모델이 테스트 데이터에 대하여 최종 분류한 값\n",
        "test_labels # 원핫인코딩된 카테고리 값"
      ],
      "metadata": {
        "colab": {
          "base_uri": "https://localhost:8080/"
        },
        "id": "CExkn4ZiZzcI",
        "outputId": "f3f3f372-8b2e-4ecd-f8d1-3b538a6721f4"
      },
      "execution_count": 47,
      "outputs": [
        {
          "output_type": "execute_result",
          "data": {
            "text/plain": [
              "array([[0., 0., 0., ..., 1., 0., 0.],\n",
              "       [0., 0., 1., ..., 0., 0., 0.],\n",
              "       [0., 1., 0., ..., 0., 0., 0.],\n",
              "       ...,\n",
              "       [0., 0., 0., ..., 0., 0., 0.],\n",
              "       [0., 0., 0., ..., 0., 0., 0.],\n",
              "       [0., 0., 0., ..., 0., 0., 0.]], dtype=float32)"
            ]
          },
          "metadata": {},
          "execution_count": 47
        }
      ]
    },
    {
      "cell_type": "code",
      "source": [
        "labels = np.argmax(test_labels,axis = 1) # 정답데이터 (원핫인코딩 데이터의 최대값의 위치를 찾으면 정답 카테고리임)"
      ],
      "metadata": {
        "id": "abYj7NPVaDOg"
      },
      "execution_count": 49,
      "outputs": []
    },
    {
      "cell_type": "code",
      "source": [
        "y_pred!=labels # 동일 위치에 같은 값이 있으면 False, 아니면 True\n",
        "np.where(y_pred!=labels) # False가 있는 데이터의 위치를 반환"
      ],
      "metadata": {
        "colab": {
          "base_uri": "https://localhost:8080/"
        },
        "id": "9gmlTVvYabnf",
        "outputId": "b224f58a-d965-49d4-8c0f-217f259e75e2"
      },
      "execution_count": 53,
      "outputs": [
        {
          "output_type": "execute_result",
          "data": {
            "text/plain": [
              "(array([ 247,  340,  445,  502,  582,  619,  659,  684,  691,  717,  740,\n",
              "         760,  844,  900,  947,  956, 1014, 1039, 1052, 1112, 1156, 1178,\n",
              "        1182, 1226, 1232, 1242, 1247, 1260, 1319, 1328, 1393, 1464, 1494,\n",
              "        1500, 1520, 1530, 1549, 1553, 1581, 1609, 1617, 1621, 1681, 1754,\n",
              "        1782, 1790, 1800, 1901, 1941, 1952, 1987, 2004, 2024, 2035, 2053,\n",
              "        2070, 2098, 2109, 2118, 2130, 2135, 2179, 2182, 2185, 2272, 2293,\n",
              "        2369, 2387, 2406, 2414, 2422, 2425, 2426, 2454, 2488, 2582, 2607,\n",
              "        2630, 2648, 2654, 2721, 2866, 2896, 2915, 2921, 2927, 2938, 2939,\n",
              "        2953, 2970, 2995, 3060, 3062, 3073, 3117, 3225, 3405, 3422, 3441,\n",
              "        3475, 3503, 3520, 3533, 3550, 3558, 3559, 3567, 3597, 3604, 3674,\n",
              "        3681, 3727, 3751, 3808, 3818, 3838, 3853, 3902, 3926, 3941, 3943,\n",
              "        3985, 4007, 4027, 4065, 4078, 4123, 4163, 4193, 4199, 4248, 4289,\n",
              "        4425, 4433, 4437, 4439, 4497, 4500, 4536, 4551, 4615, 4639, 4671,\n",
              "        4690, 4740, 4761, 4789, 4807, 4814, 4823, 4837, 4860, 4876, 4880,\n",
              "        4978, 5078, 5265, 5331, 5457, 5620, 5642, 5676, 5745, 5888, 5926,\n",
              "        5936, 5937, 5955, 5973, 6011, 6023, 6030, 6045, 6059, 6166, 6555,\n",
              "        6571, 6597, 6625, 6632, 6651, 6755, 6783, 6847, 7216, 7233, 7434,\n",
              "        7486, 7800, 7821, 7823, 7915, 7927, 8059, 8198, 8246, 8255, 8277,\n",
              "        8316, 8527, 8679, 9009, 9015, 9024, 9316, 9422, 9540, 9587, 9664,\n",
              "        9679, 9692, 9700, 9729, 9745, 9749, 9768, 9770, 9779, 9782, 9792,\n",
              "        9793, 9858, 9941, 9982]),)"
            ]
          },
          "metadata": {},
          "execution_count": 53
        }
      ]
    },
    {
      "cell_type": "code",
      "source": [
        "idx = 9858\n",
        "plt.imshow(test_images[idx].reshape(28,28)), y_pred[idx], labels[idx]"
      ],
      "metadata": {
        "colab": {
          "base_uri": "https://localhost:8080/",
          "height": 448
        },
        "id": "rzv38BPpbJpB",
        "outputId": "1a319b56-b6eb-4dea-a47f-d96abef2e0b0"
      },
      "execution_count": 57,
      "outputs": [
        {
          "output_type": "execute_result",
          "data": {
            "text/plain": [
              "(<matplotlib.image.AxesImage at 0x789b0b5d4340>, 8, 6)"
            ]
          },
          "metadata": {},
          "execution_count": 57
        },
        {
          "output_type": "display_data",
          "data": {
            "text/plain": [
              "<Figure size 640x480 with 1 Axes>"
            ],
            "image/png": "[encoded data removed]"
          },
          "metadata": {}
        }
      ]
    }
  ]
}