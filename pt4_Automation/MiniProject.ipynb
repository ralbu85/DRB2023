{
 "cells": [
  {
   "cell_type": "markdown",
   "id": "338383a4-3535-4c2e-b46c-d857e5530ca7",
   "metadata": {},
   "source": [
    "## 미니 프로젝트"
   ]
  },
  {
   "cell_type": "code",
   "execution_count": 1,
   "id": "64ab8904-219e-4cbf-ba08-4d77e14b59b9",
   "metadata": {},
   "outputs": [],
   "source": [
    "from openpyxl import load_workbook, Workbook"
   ]
  },
  {
   "cell_type": "code",
   "execution_count": 41,
   "id": "b8d09c54-7d4b-4da7-9b2f-8a84eceadc1b",
   "metadata": {},
   "outputs": [],
   "source": [
    "# 엑셀파일 불러오기\n",
    "wb = load_workbook('excel/customerList.xlsx')\n",
    "# 워크시트 선택하기\n",
    "sheet = wb.active\n",
    "# 엑셀파일의 컨텐츠를 저장할 빈 리스트\n",
    "contents = []\n",
    "# 각 열을 반복하면서 빈 리스트에 추가\n",
    "for row in sheet.iter_rows(values_only=True):\n",
    "    contents.append(row)\n",
    "# 리스트의 1번째부터 끝까지 사용 (0번째는 제외)\n",
    "contents =contents[1:]"
   ]
  },
  {
   "cell_type": "code",
   "execution_count": 42,
   "id": "e01a7f2c-e91e-43c4-846b-869479c77cb1",
   "metadata": {},
   "outputs": [],
   "source": [
    "for c in contents:\n",
    "    doc = Document('word/template.docx')\n",
    "    para = doc.paragraphs\n",
    "    para[0].text = para[0].text.replace(\"{company}\",c[3])\n",
    "    para[2].text = para[2].text.replace('{number}', c[0])\n",
    "    para[3].text = para[3].text.replace('{date}', c[1].strftime('%Y-%m-%d'))\n",
    "    para[4].text = para[4].text.replace('{receiver}', c[2])\n",
    "    para[5].text = para[5].text.replace('{sender}', c[3])\n",
    "    para[6].text = para[6].text.replace('{title}', c[4])\n",
    "    # 공문내용 추가하기\n",
    "    doc.add_paragraph(c[5])\n",
    "    \n",
    "    p = doc.add_paragraph(style='List Number')\n",
    "    p.add_run(c[6])\n",
    "    \n",
    "    p = doc.add_paragraph(style='List Number')\n",
    "    p.add_run(c[7])\n",
    "\n",
    "    doc.save('공문_'+c[0]+'.docx') # 공문 번호를 파일명으로 저장하기 위해 문자열 더하기를 사용"
   ]
  }
 ],
 "metadata": {
  "kernelspec": {
   "display_name": "Python 3 (ipykernel)",
   "language": "python",
   "name": "python3"
  },
  "language_info": {
   "codemirror_mode": {
    "name": "ipython",
    "version": 3
   },
   "file_extension": ".py",
   "mimetype": "text/x-python",
   "name": "python",
   "nbconvert_exporter": "python",
   "pygments_lexer": "ipython3",
   "version": "3.11.3"
  }
 },
 "nbformat": 4,
 "nbformat_minor": 5
}
