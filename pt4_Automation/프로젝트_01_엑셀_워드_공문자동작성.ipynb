{
 "cells": [
  {
   "cell_type": "markdown",
   "id": "fade33fd-fdfa-4c15-833a-9c1b39f6e355",
   "metadata": {},
   "source": [
    "## 프로젝트 연습문제"
   ]
  },
  {
   "cell_type": "markdown",
   "id": "9b90ad36-5530-421f-afa2-c535445b10de",
   "metadata": {},
   "source": [
    "* excel폴더 내에 있는 customerList.xlsx 파일에는 template.docx 공문에 필요한 모든 내용이 엑셀로 정리되어 있다\n",
    "* 해당 파일의 데이터를 이용하여 template.docx 공문을 고객사별로 별도로 모두 작성해보시오\n",
    "* 파일 이름은 공문번호.docx가 될수 있도록 해 보시오"
   ]
  }
 ],
 "metadata": {
  "kernelspec": {
   "display_name": "Python 3 (ipykernel)",
   "language": "python",
   "name": "python3"
  },
  "language_info": {
   "codemirror_mode": {
    "name": "ipython",
    "version": 3
   },
   "file_extension": ".py",
   "mimetype": "text/x-python",
   "name": "python",
   "nbconvert_exporter": "python",
   "pygments_lexer": "ipython3",
   "version": "3.8.10"
  }
 },
 "nbformat": 4,
 "nbformat_minor": 5
}
