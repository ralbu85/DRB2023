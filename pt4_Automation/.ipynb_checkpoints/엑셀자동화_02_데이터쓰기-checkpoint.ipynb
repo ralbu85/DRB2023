{
 "cells": [
  {
   "cell_type": "code",
   "execution_count": 23,
   "id": "772b1a61-cb71-4e39-90cb-71499d5c90f5",
   "metadata": {
    "tags": []
   },
   "outputs": [],
   "source": [
    "from openpyxl import Workbook, load_workbook"
   ]
  },
  {
   "cell_type": "markdown",
   "id": "83f6850e-76ab-463f-9ea2-1138c96193ce",
   "metadata": {},
   "source": [
    "## 새로운 엑셀파일 만들기"
   ]
  },
  {
   "cell_type": "code",
   "execution_count": 25,
   "id": "bad13433-a05c-4626-a63c-350bf11034d2",
   "metadata": {
    "tags": []
   },
   "outputs": [],
   "source": [
    "xlsx = Workbook() # 새로운 워크시트 만들기\n",
    "sheet = xlsx.active # 활성화된 시트 열기\n",
    "sheet['A1'] = 'my input data' #A1셀에 문자열 값 추가\n",
    "xlsx.save('other.xlsx') # 결과값 저장하기기\n"
   ]
  },
  {
   "cell_type": "markdown",
   "id": "a83bb2dc-2061-4255-a862-8c124e932809",
   "metadata": {},
   "source": [
    "## 데이터 추가하기"
   ]
  },
  {
   "cell_type": "code",
   "execution_count": 26,
   "id": "feccb87a-6656-4502-aab6-fc3949d331e3",
   "metadata": {
    "tags": []
   },
   "outputs": [],
   "source": [
    "xlsx = load_workbook('other.xlsx') # 새로운 워크시트 만들기\n",
    "sheet = xlsx.active\n",
    "\n",
    "sheet.append(['A1-data','B1-data','C1-data'])\n",
    "sheet.append(['A2-data','B2-data','C2-data'])\n",
    "\n",
    "xlsx.save('other.xlsx') #결과값 반영\n"
   ]
  },
  {
   "cell_type": "markdown",
   "id": "f2559a5e-b685-4610-8aa8-d52ebaf32db0",
   "metadata": {},
   "source": [
    "## 기존데이터의 값 바꾸기"
   ]
  },
  {
   "cell_type": "code",
   "execution_count": 27,
   "id": "12866775-136e-40d6-9652-950d57c53081",
   "metadata": {
    "tags": []
   },
   "outputs": [
    {
     "name": "stdout",
     "output_type": "stream",
     "text": [
      "A1-data\n",
      "B1-data\n",
      "C1-data\n"
     ]
    }
   ],
   "source": [
    "for cell in sheet['2']:\n",
    "    print(cell.value)"
   ]
  },
  {
   "cell_type": "code",
   "execution_count": 28,
   "id": "28f0622d-a4cd-4f82-a51d-739a13a20c3f",
   "metadata": {
    "tags": []
   },
   "outputs": [
    {
     "name": "stdout",
     "output_type": "stream",
     "text": [
      "A1-data-modified\n",
      "B1-data\n",
      "C1-data\n"
     ]
    }
   ],
   "source": [
    "cell = sheet['2'][0]\n",
    "cell.value = 'A1-data-modified'\n",
    "for cell in sheet['2']:\n",
    "    print(cell.value)\n",
    "xlsx.save('other.xlsx') # 결과값 반영"
   ]
  },
  {
   "cell_type": "markdown",
   "id": "26754336-a4b5-4aae-8bfb-5819ca57d32c",
   "metadata": {},
   "source": [
    "## 새로운 시트 생성하기"
   ]
  },
  {
   "cell_type": "code",
   "execution_count": 29,
   "id": "634efdd3-4bd6-4158-9bb7-553bc1feabd5",
   "metadata": {
    "tags": []
   },
   "outputs": [],
   "source": [
    "xlsx = load_workbook('other.xlsx') # 저장된 시트 열기\n",
    "sheet = xlsx.create_sheet('새로운시트') #새로운 시트 추가\n",
    "sheet['A1'] = '데이터' #새로운 시트에 데이터 추가\n",
    "\n",
    "xlsx.save('other.xlsx') #열었던 파일에 다시 저장"
   ]
  },
  {
   "cell_type": "markdown",
   "id": "b13bd278-3bba-4afa-a361-1ad2c9cc5a2d",
   "metadata": {},
   "source": [
    "## 연습문제\n",
    "* 2017.12.1.xlsx 파일에 있는 모든 내용을 other.xlsx에 복사해보시오. 시트 이름은 result로 지정한다\n",
    "    - 2017.12.1 시트 불러오기 및 시트 선택\n",
    "    - other.xlsx 파일 불러오기 및 새로운 시트 생성\n",
    "    - 2017.12.1의 시트에 있는 데이터를 복사하여 other.xlsx의 새로운 시트에 옮기기\n",
    "    - 결과물 저장\n",
    "    "
   ]
  },
  {
   "cell_type": "code",
   "execution_count": 30,
   "id": "7372f1b9-606e-440d-855c-889ff43ee055",
   "metadata": {
    "tags": []
   },
   "outputs": [
    {
     "name": "stdout",
     "output_type": "stream",
     "text": [
      "('2017.12.1', ' 0:00:00', \"log-data at '2017-12-1  0:00:00'\")\n",
      "('2017.12.1', ' 1:00:00', \"log-data at '2017-12-1  1:00:00'\")\n",
      "('2017.12.1', ' 2:00:00', \"log-data at '2017-12-1  2:00:00'\")\n",
      "('2017.12.1', ' 3:00:00', \"log-data at '2017-12-1  3:00:00'\")\n",
      "('2017.12.1', ' 4:00:00', \"log-data at '2017-12-1  4:00:00'\")\n",
      "('2017.12.1', ' 5:00:00', \"log-data at '2017-12-1  5:00:00'\")\n",
      "('2017.12.1', ' 6:00:00', \"log-data at '2017-12-1  6:00:00'\")\n",
      "('2017.12.1', ' 7:00:00', \"log-data at '2017-12-1  7:00:00'\")\n",
      "('2017.12.1', ' 8:00:00', \"log-data at '2017-12-1  8:00:00'\")\n",
      "('2017.12.1', ' 9:00:00', \"log-data at '2017-12-1  9:00:00'\")\n",
      "('2017.12.1', '10:00:00', \"log-data at '2017-12-1 10:00:00'\")\n",
      "('2017.12.1', '11:00:00', \"log-data at '2017-12-1 11:00:00'\")\n",
      "('2017.12.1', '12:00:00', \"log-data at '2017-12-1 12:00:00'\")\n",
      "('2017.12.1', '13:00:00', \"log-data at '2017-12-1 13:00:00'\")\n",
      "('2017.12.1', '14:00:00', \"log-data at '2017-12-1 14:00:00'\")\n",
      "('2017.12.1', '15:00:00', \"log-data at '2017-12-1 15:00:00'\")\n",
      "('2017.12.1', '16:00:00', \"log-data at '2017-12-1 16:00:00'\")\n",
      "('2017.12.1', '17:00:00', \"log-data at '2017-12-1 17:00:00'\")\n",
      "('2017.12.1', '18:00:00', \"log-data at '2017-12-1 18:00:00'\")\n",
      "('2017.12.1', '19:00:00', \"log-data at '2017-12-1 19:00:00'\")\n",
      "('2017.12.1', '20:00:00', \"log-data at '2017-12-1 20:00:00'\")\n",
      "('2017.12.1', '21:00:00', \"log-data at '2017-12-1 21:00:00'\")\n",
      "('2017.12.1', '22:00:00', \"log-data at '2017-12-1 22:00:00'\")\n",
      "('2017.12.1', '23:00:00', \"log-data at '2017-12-1 23:00:00'\")\n"
     ]
    }
   ],
   "source": [
    "source_file = 'excels/2017.12.1.xlsx'\n",
    "target_file = 'other.xlsx'\n",
    "\n",
    "## 2017.12.1 시트 불러오기\n",
    "source_xlsx = load_workbook(source_file)\n",
    "source_sheet = source_xlsx.active #시트 선택\n",
    "\n",
    "# other.xlsx 불러오기\n",
    "target_xlsx = load_workbook(target_file)\n",
    "target_sheet = target_xlsx.create_sheet('result')\n",
    "\n",
    "for row in source_sheet.iter_rows(values_only=True):\n",
    "    print(row)\n",
    "    target_sheet.append(row)\n",
    "\n",
    "target_xlsx.save('other.xlsx')\n"
   ]
  },
  {
   "cell_type": "markdown",
   "id": "1e015dfc-21f1-4659-9d76-3366ec1506ed",
   "metadata": {},
   "source": [
    "## 연습문제2: 개별 파일을 하나의 파일로 취합하기(시트별로)"
   ]
  },
  {
   "cell_type": "markdown",
   "id": "babf28d1-0625-441c-92a7-ef0528e37a7a",
   "metadata": {},
   "source": [
    "excels 폴더내에 있는 모든 파일들을 취합하여 하나의 엑셀파일로 만드시오.  \n",
    "개별 파일들은 취합된 엑셀파일에서 시트로 구분하시오"
   ]
  },
  {
   "cell_type": "code",
   "execution_count": 34,
   "id": "5bdf4c22-7d88-438a-8828-d23aef47609c",
   "metadata": {},
   "outputs": [
    {
     "data": {
      "text/plain": [
       "['2017.12.1.xlsx',\n",
       " '2017.12.2.xlsx',\n",
       " '2017.12.3.xlsx',\n",
       " '2017.12.4.xlsx',\n",
       " '2017.12.5.xlsx',\n",
       " '2017.12.6.xlsx',\n",
       " '2017.12.7.xlsx',\n",
       " '2017.12.8.xlsx',\n",
       " '2017.12.9.xlsx',\n",
       " 'other.xlsx',\n",
       " 'result.xlsx']"
      ]
     },
     "execution_count": 34,
     "metadata": {},
     "output_type": "execute_result"
    }
   ],
   "source": [
    "from os import listdir\n",
    "folder = 'excels/'\n",
    "files = listdir(folder)\n",
    "files\n",
    "\n",
    "## 파일 읽기"
   ]
  },
  {
   "cell_type": "code",
   "execution_count": 36,
   "id": "b439f72a-4401-469a-8167-bfb139e094c9",
   "metadata": {},
   "outputs": [],
   "source": [
    "xlsx = Workbook()\n",
    "\n",
    "for file in files:\n",
    "    ## 파일\n",
    "    pathName = folder + f\n",
    "    \n",
    "    ## 시트 생성하기\n",
    "    sheet = xlsx.create_sheet(file)\n",
    "        \n",
    "    ## 데이터 읽기\n",
    "    temp = load_workbook(pathName).active\n",
    "    for row in temp.iter_rows(values_only=True):\n",
    "        sheet.append(row)\n",
    "\n",
    "## 최종 저장하기\n",
    "xlsx.save('merged.xlsx')    "
   ]
  },
  {
   "cell_type": "markdown",
   "id": "9bc58b67-2ffb-4476-9228-b87a98be6af0",
   "metadata": {},
   "source": [
    "## 연습문제3: 개별파일을 하나의 파일에 취합해버리기"
   ]
  },
  {
   "cell_type": "markdown",
   "id": "a038864d-27ca-4804-a699-58e81b8a323d",
   "metadata": {},
   "source": [
    "excels 폴더내에 있는 모든 파일들을 읽어서 하나의 시트에 순서대로 쓰시오"
   ]
  },
  {
   "cell_type": "code",
   "execution_count": 38,
   "id": "ef9fa9e6-4db0-4e36-bddf-9d4fa3fbac54",
   "metadata": {},
   "outputs": [],
   "source": [
    "from os import listdir\n",
    "folder = 'excels/'\n",
    "files = listdir(folder)\n",
    "\n",
    "xlsx = Workbook()\n",
    "sheet = xlsx.active\n",
    "\n",
    "for file in files:\n",
    "    pathName = folder + f\n",
    "    \n",
    "    for row in temp.iter_rows(values_only=True):\n",
    "        sheet.append(row)\n",
    "        \n",
    "xlsx.save('result.xlsx')\n",
    "    \n",
    "    \n",
    "    "
   ]
  }
 ],
 "metadata": {
  "kernelspec": {
   "display_name": "Python 3 (ipykernel)",
   "language": "python",
   "name": "python3"
  },
  "language_info": {
   "codemirror_mode": {
    "name": "ipython",
    "version": 3
   },
   "file_extension": ".py",
   "mimetype": "text/x-python",
   "name": "python",
   "nbconvert_exporter": "python",
   "pygments_lexer": "ipython3",
   "version": "3.10.4"
  }
 },
 "nbformat": 4,
 "nbformat_minor": 5
}
