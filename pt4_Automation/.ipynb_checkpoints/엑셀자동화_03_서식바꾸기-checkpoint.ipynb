{
 "cells": [
  {
   "cell_type": "markdown",
   "id": "57c6e50d-e6b1-4a22-94a9-26c00960f0e7",
   "metadata": {},
   "source": [
    "## 저장하기"
   ]
  },
  {
   "cell_type": "code",
   "execution_count": 5,
   "id": "2cb03313-1598-403a-b3c1-59f549a7cdfd",
   "metadata": {
    "tags": []
   },
   "outputs": [],
   "source": [
    "import openpyxl\n",
    "\n",
    "wb = openpyxl.load_workbook('example.xlsx')\n",
    "sheet = wb.active\n",
    "\n",
    "for i in range(1,sheet.max_row+1):\n",
    "    sheet.cell(row=i, column=4).value = '테스트'\n",
    "wb.save('example.xlsx')"
   ]
  },
  {
   "cell_type": "markdown",
   "id": "a0f2395a-fc46-4e07-8b11-ab8f60bed9f7",
   "metadata": {
    "tags": []
   },
   "source": [
    "## 조건부 셀서식"
   ]
  },
  {
   "cell_type": "code",
   "execution_count": 7,
   "id": "175b40f4-62cb-4174-8ac2-386a2e781a12",
   "metadata": {},
   "outputs": [],
   "source": [
    "## 폰트 지정하기\n",
    "from openpyxl.styles import Font\n",
    "font = Font(name='Arial', size=12, bold=True, color='000000FF')\n",
    "sheet['A1'].font = font # sheet.cell(row=1, column=1).font = Font\n",
    "wb.save('example.xlsx')"
   ]
  },
  {
   "cell_type": "code",
   "execution_count": 10,
   "id": "3588d7c0-9dd1-4e16-ba3f-4100e6ef8559",
   "metadata": {},
   "outputs": [],
   "source": [
    "## 셀채우기\n",
    "from openpyxl.styles import PatternFill\n",
    "fill = PatternFill(fill_type = 'solid', fgColor='FFFF00')\n",
    "sheet.cell(row=1, column=1).fill = fill\n",
    "wb.save('example.xlsx')"
   ]
  },
  {
   "cell_type": "code",
   "execution_count": 11,
   "id": "cb572332-c3a0-4bfd-bf89-f90f54269a5c",
   "metadata": {},
   "outputs": [],
   "source": [
    "## 셀정렬\n",
    "from openpyxl.styles import Alignment\n",
    "alignment = Alignment(horizontal='center', vertical='top')\n",
    "sheet.cell(row=1, column=1).alignment = alignment\n",
    "wb.save('example.xlsx')"
   ]
  },
  {
   "cell_type": "markdown",
   "id": "53c7e2fb-089f-4f19-b539-4f058d24db5f",
   "metadata": {},
   "source": [
    "## 연습문제"
   ]
  },
  {
   "cell_type": "markdown",
   "id": "aed93540-57f8-4baf-9ac7-0e29c66fc960",
   "metadata": {},
   "source": [
    "censusPop 데이터를 불러와서 마지막 열의 숫자가 1000을 넘으면 행 전체를 파란색 글씨로 바꾸는 작업을 수행하시오"
   ]
  }
 ],
 "metadata": {
  "kernelspec": {
   "display_name": "Python 3 (ipykernel)",
   "language": "python",
   "name": "python3"
  },
  "language_info": {
   "codemirror_mode": {
    "name": "ipython",
    "version": 3
   },
   "file_extension": ".py",
   "mimetype": "text/x-python",
   "name": "python",
   "nbconvert_exporter": "python",
   "pygments_lexer": "ipython3",
   "version": "3.8.10"
  }
 },
 "nbformat": 4,
 "nbformat_minor": 5
}
