{
 "cells": [
  {
   "cell_type": "markdown",
   "id": "8e3ba12a",
   "metadata": {},
   "source": [
    "# 05. 함수"
   ]
  },
  {
   "cell_type": "markdown",
   "id": "25d6102b-db61-4d77-b69c-90bb96356f68",
   "metadata": {},
   "source": [
    "```python\n",
    "def 함수이름(매개변수1, 매개변수2, ...):\n",
    "    함수의 실행문\n",
    "    return 반환값\n"
   ]
  },
  {
   "cell_type": "markdown",
   "id": "d928503c-f63c-4046-bbb5-d5e9b5ee381e",
   "metadata": {},
   "source": [
    "* y = f(x) = 2x + 10\n",
    "    - f(5) = 20\n",
    "    - f(10) = 30"
   ]
  },
  {
   "cell_type": "markdown",
   "id": "473ce249-8c5c-4178-b84d-feb9ea1eb3ee",
   "metadata": {},
   "source": [
    "## 함수의 정의"
   ]
  },
  {
   "cell_type": "code",
   "execution_count": 1,
   "id": "7a4e3d7c-573b-4986-a553-499982de901d",
   "metadata": {},
   "outputs": [],
   "source": [
    "def function(x):\n",
    "    y = 2*x+10\n",
    "    return y"
   ]
  },
  {
   "cell_type": "code",
   "execution_count": 2,
   "id": "205da068-8a32-40b4-86df-cff136fecae7",
   "metadata": {},
   "outputs": [
    {
     "data": {
      "text/plain": [
       "30"
      ]
     },
     "execution_count": 2,
     "metadata": {},
     "output_type": "execute_result"
    }
   ],
   "source": [
    "function(10)"
   ]
  },
  {
   "cell_type": "code",
   "execution_count": 3,
   "id": "effd4ee6-a425-4f25-ad76-d8efb5d40317",
   "metadata": {},
   "outputs": [
    {
     "data": {
      "text/plain": [
       "50"
      ]
     },
     "execution_count": 3,
     "metadata": {},
     "output_type": "execute_result"
    }
   ],
   "source": [
    "function(20)"
   ]
  },
  {
   "cell_type": "markdown",
   "id": "40ce02a4-9430-4aa9-a51c-adeee2873417",
   "metadata": {},
   "source": [
    "## 연습문제\n",
    "* 다음을 수행하는 함수를 만들어보시오\n",
    "    - 이름: power\n",
    "    - 입력값: 숫자\n",
    "    - 출력값: 입력된 숫자에 세제곱후 100을 뺀 값"
   ]
  },
  {
   "cell_type": "code",
   "execution_count": 4,
   "id": "0280b2fd-0ab1-4448-bddb-19e8ec6e0b85",
   "metadata": {},
   "outputs": [],
   "source": [
    "def power(n):\n",
    "    y = n**3 - 100\n",
    "    return y"
   ]
  },
  {
   "cell_type": "code",
   "execution_count": 6,
   "id": "8e165771-3604-4fe2-9bdb-d92538e69323",
   "metadata": {},
   "outputs": [
    {
     "data": {
      "text/plain": [
       "900"
      ]
     },
     "execution_count": 6,
     "metadata": {},
     "output_type": "execute_result"
    }
   ],
   "source": [
    "power(10)"
   ]
  },
  {
   "cell_type": "markdown",
   "id": "405b9791-fb77-426a-8653-fdb0d0ae2ffc",
   "metadata": {},
   "source": [
    "## 입력값이 여러개인 함수\n",
    "* a에 b제곱하는 함수\n",
    "    - 이름: jegop\n",
    "    - 입력값1: 및 a\n",
    "    - 입력값2: 지수 b\n",
    "    - 출력값: y"
   ]
  },
  {
   "cell_type": "code",
   "execution_count": 7,
   "id": "7606646f-7fcd-4efc-b321-dd722334c544",
   "metadata": {},
   "outputs": [],
   "source": [
    "def jegop(a,b):\n",
    "    y = a**b\n",
    "    return y"
   ]
  },
  {
   "cell_type": "code",
   "execution_count": 8,
   "id": "15edbe0b-f084-445a-b7e9-9f2111a1a1e5",
   "metadata": {},
   "outputs": [
    {
     "data": {
      "text/plain": [
       "8"
      ]
     },
     "execution_count": 8,
     "metadata": {},
     "output_type": "execute_result"
    }
   ],
   "source": [
    "jegop(2,3)"
   ]
  },
  {
   "cell_type": "code",
   "execution_count": 9,
   "id": "867dc1c2-df1f-4ca1-95b5-ff95b87c08a9",
   "metadata": {},
   "outputs": [
    {
     "data": {
      "text/plain": [
       "0.1111111111111111"
      ]
     },
     "execution_count": 9,
     "metadata": {},
     "output_type": "execute_result"
    }
   ],
   "source": [
    "jegop(3,-2)"
   ]
  },
  {
   "cell_type": "markdown",
   "id": "325b8234-5d94-451a-a738-3d83f8c467df",
   "metadata": {},
   "source": [
    "## 함수 출력값의 사용"
   ]
  },
  {
   "cell_type": "code",
   "execution_count": 10,
   "id": "3885c4b5-a101-4cf9-bb0b-7566ad587090",
   "metadata": {},
   "outputs": [],
   "source": [
    "# 함수의 계산결과는 변수에 저장하여 사용할 수 있다.\n",
    "result1 = function(20)\n",
    "result2 = power(50)\n",
    "result3 = jegop(2, 10)"
   ]
  },
  {
   "cell_type": "code",
   "execution_count": 11,
   "id": "59612954-d59b-4753-8ba9-2b12914318be",
   "metadata": {},
   "outputs": [
    {
     "name": "stdout",
     "output_type": "stream",
     "text": [
      "50\n",
      "124900\n",
      "1024\n"
     ]
    }
   ],
   "source": [
    "print(result1)\n",
    "print(result2)\n",
    "print(result3)"
   ]
  },
  {
   "cell_type": "markdown",
   "id": "8dfa5025-006b-416e-afb0-7822e96c3b57",
   "metadata": {},
   "source": [
    "## 연습문제\n",
    "* 다음 함수를 만들어보시오\n",
    "    - 함수이름: sigma\n",
    "    - 입력값: 숫자 n\n",
    "    - 출력값: 1부터 n까지의 합 (1+2+...+n)"
   ]
  },
  {
   "cell_type": "code",
   "execution_count": 12,
   "id": "3a19b00b-68c4-4d2b-bede-e7da11d09d2e",
   "metadata": {},
   "outputs": [],
   "source": [
    "def sigma(n):\n",
    "    result = 0\n",
    "    for i in range(1,n+1):\n",
    "        result = result + i    \n",
    "    return result\n",
    "    "
   ]
  },
  {
   "cell_type": "markdown",
   "id": "737b12e3-b74b-4cc3-8d5c-488a8f15bff3",
   "metadata": {},
   "source": [
    "result = result + 1\n",
    "result = result + 2\n",
    "result = result + 3\n",
    "result = result + 4\n"
   ]
  },
  {
   "cell_type": "markdown",
   "id": "f7df6975-8554-44a0-a00b-13454ca98f0b",
   "metadata": {},
   "source": [
    "## 연습문제\n",
    "* 입력된 정수(n)의 팩토리얼 (1*2*...*n)을 구현하는 함수를 만들어보시오\n",
    "    - 함수이름: factorial\n",
    "    - 입력값: n\n",
    "    - 출력값: y"
   ]
  },
  {
   "cell_type": "markdown",
   "id": "0aa626ab-be5b-4818-b5e3-608c8fa45c35",
   "metadata": {},
   "source": [
    "## 연습문제\n",
    "* 두개의 문자열을 입력받아 두 문자열의 갯수가 같으면 True, 아니면 False를 출력하는 함수를 만들어보시오\n",
    "    - 함수이름: isSameLength"
   ]
  },
  {
   "cell_type": "markdown",
   "id": "6a6627f4-323c-4ccb-9530-34743da302d0",
   "metadata": {},
   "source": [
    "## 출력값이 여러개인 함수"
   ]
  },
  {
   "cell_type": "code",
   "execution_count": 1,
   "id": "081dab9f-4032-46cb-a2e1-e85660697247",
   "metadata": {},
   "outputs": [],
   "source": [
    "def power(a,b):    \n",
    "    return a,a**b\n",
    "\n",
    "a,b = power(2,3)"
   ]
  },
  {
   "cell_type": "code",
   "execution_count": 2,
   "id": "5459cfb0-5270-4f3e-8abc-d1c8eaeba6a1",
   "metadata": {},
   "outputs": [
    {
     "name": "stdout",
     "output_type": "stream",
     "text": [
      "2 8\n"
     ]
    }
   ],
   "source": [
    "print(a,b)"
   ]
  },
  {
   "cell_type": "markdown",
   "id": "ff5c9946",
   "metadata": {},
   "source": [
    "## 05-5. 지역변수"
   ]
  },
  {
   "cell_type": "markdown",
   "id": "a2d293f3",
   "metadata": {},
   "source": [
    "- 함수에 사용되는 변수들은 함수 안에서만 의미있다.\n",
    "- 즉, 함수 밖에서 사용할 수 없다."
   ]
  },
  {
   "cell_type": "code",
   "execution_count": 23,
   "id": "0673e562",
   "metadata": {},
   "outputs": [],
   "source": [
    "def tenTimes(x):\n",
    "    result = x*10\n",
    "    return result"
   ]
  },
  {
   "cell_type": "code",
   "execution_count": 24,
   "id": "c36863dc",
   "metadata": {},
   "outputs": [
    {
     "ename": "NameError",
     "evalue": "name 'result' is not defined",
     "output_type": "error",
     "traceback": [
      "\u001b[0;31m---------------------------------------------------------------------------\u001b[0m",
      "\u001b[0;31mNameError\u001b[0m                                 Traceback (most recent call last)",
      "\u001b[0;32m<ipython-input-24-0ac921c19f1a>\u001b[0m in \u001b[0;36m<module>\u001b[0;34m\u001b[0m\n\u001b[0;32m----> 1\u001b[0;31m \u001b[0mresult\u001b[0m\u001b[0;34m\u001b[0m\u001b[0;34m\u001b[0m\u001b[0m\n\u001b[0m",
      "\u001b[0;31mNameError\u001b[0m: name 'result' is not defined"
     ]
    }
   ],
   "source": [
    "result"
   ]
  },
  {
   "cell_type": "code",
   "execution_count": 25,
   "id": "6f26f290",
   "metadata": {},
   "outputs": [
    {
     "data": {
      "text/plain": [
       "20"
      ]
     },
     "execution_count": 25,
     "metadata": {},
     "output_type": "execute_result"
    }
   ],
   "source": [
    "result=10\n",
    "tenTimes(2)"
   ]
  },
  {
   "cell_type": "code",
   "execution_count": 28,
   "id": "e06dd531",
   "metadata": {},
   "outputs": [
    {
     "data": {
      "text/plain": [
       "10"
      ]
     },
     "execution_count": 28,
     "metadata": {},
     "output_type": "execute_result"
    }
   ],
   "source": [
    "result"
   ]
  },
  {
   "cell_type": "markdown",
   "id": "c83189ad",
   "metadata": {},
   "source": [
    "- 함수안의 result값은 함수 안에서만 유효하다, 즉 함수 밖의 result와 함수 안의 result는 다르다.\n",
    "- 하지만 함수 밖에서 지정한 변수는 함수 안에서 참조가 가능하다 (전역변수) 주의를 요함."
   ]
  },
  {
   "cell_type": "markdown",
   "id": "18939242",
   "metadata": {},
   "source": [
    "## 5-6. 함수를 사용한 프로그램 구조화"
   ]
  },
  {
   "cell_type": "code",
   "execution_count": 5,
   "id": "1b020963",
   "metadata": {},
   "outputs": [
    {
     "name": "stdout",
     "output_type": "stream",
     "text": [
      "==================================================\n",
      "**************************************************\n",
      "hello\n",
      "hello\n",
      "hello\n",
      "hello\n",
      "hello\n",
      "**************************************************\n",
      "==================================================\n"
     ]
    }
   ],
   "source": [
    "def print_line():\n",
    "    print('='*50)\n",
    "\n",
    "def print_five():\n",
    "    for i in range(5):\n",
    "        print('hello')\n",
    "        \n",
    "def print_star():\n",
    "    print('*'*50)\n",
    "    \n",
    "print_line()\n",
    "print_star()\n",
    "print_five()\n",
    "print_star()\n",
    "print_line()"
   ]
  },
  {
   "cell_type": "markdown",
   "id": "eb5e3f4f",
   "metadata": {},
   "source": [
    "## 5-7. 함수의 입출력값에는 제한이 없다"
   ]
  },
  {
   "cell_type": "code",
   "execution_count": 7,
   "id": "2b4f9aaa",
   "metadata": {},
   "outputs": [
    {
     "name": "stdout",
     "output_type": "stream",
     "text": [
      "25\n"
     ]
    }
   ],
   "source": [
    "def sum_list(a):\n",
    "    result=0\n",
    "    for i in a:\n",
    "        result = result + i\n",
    "    return result\n",
    "\n",
    "inputList = [1,3,5,7,9]\n",
    "output = sum_list(inputList)\n",
    "print(output)"
   ]
  },
  {
   "cell_type": "code",
   "execution_count": 8,
   "id": "dcb57eb6",
   "metadata": {},
   "outputs": [
    {
     "ename": "TypeError",
     "evalue": "'int' object is not iterable",
     "output_type": "error",
     "traceback": [
      "\u001b[0;31m---------------------------------------------------------------------------\u001b[0m",
      "\u001b[0;31mTypeError\u001b[0m                                 Traceback (most recent call last)",
      "\u001b[0;32m<ipython-input-8-114a0811582d>\u001b[0m in \u001b[0;36m<module>\u001b[0;34m\u001b[0m\n\u001b[0;32m----> 1\u001b[0;31m \u001b[0msum_list\u001b[0m\u001b[0;34m(\u001b[0m\u001b[0;36m3\u001b[0m\u001b[0;34m)\u001b[0m\u001b[0;34m\u001b[0m\u001b[0;34m\u001b[0m\u001b[0m\n\u001b[0m",
      "\u001b[0;32m<ipython-input-7-a634a7d8a67e>\u001b[0m in \u001b[0;36msum_list\u001b[0;34m(a)\u001b[0m\n\u001b[1;32m      1\u001b[0m \u001b[0;32mdef\u001b[0m \u001b[0msum_list\u001b[0m\u001b[0;34m(\u001b[0m\u001b[0ma\u001b[0m\u001b[0;34m)\u001b[0m\u001b[0;34m:\u001b[0m\u001b[0;34m\u001b[0m\u001b[0;34m\u001b[0m\u001b[0m\n\u001b[1;32m      2\u001b[0m     \u001b[0mresult\u001b[0m\u001b[0;34m=\u001b[0m\u001b[0;36m0\u001b[0m\u001b[0;34m\u001b[0m\u001b[0;34m\u001b[0m\u001b[0m\n\u001b[0;32m----> 3\u001b[0;31m     \u001b[0;32mfor\u001b[0m \u001b[0mi\u001b[0m \u001b[0;32min\u001b[0m \u001b[0ma\u001b[0m\u001b[0;34m:\u001b[0m\u001b[0;34m\u001b[0m\u001b[0;34m\u001b[0m\u001b[0m\n\u001b[0m\u001b[1;32m      4\u001b[0m         \u001b[0mresult\u001b[0m \u001b[0;34m=\u001b[0m \u001b[0mresult\u001b[0m \u001b[0;34m+\u001b[0m \u001b[0mi\u001b[0m\u001b[0;34m\u001b[0m\u001b[0;34m\u001b[0m\u001b[0m\n\u001b[1;32m      5\u001b[0m     \u001b[0;32mreturn\u001b[0m \u001b[0mresult\u001b[0m\u001b[0;34m\u001b[0m\u001b[0;34m\u001b[0m\u001b[0m\n",
      "\u001b[0;31mTypeError\u001b[0m: 'int' object is not iterable"
     ]
    }
   ],
   "source": [
    "sum_list(3)"
   ]
  },
  {
   "cell_type": "markdown",
   "id": "038bb883",
   "metadata": {},
   "source": [
    "## 5-8. 함수안에 함수"
   ]
  },
  {
   "cell_type": "code",
   "execution_count": 11,
   "id": "70399c14",
   "metadata": {},
   "outputs": [
    {
     "name": "stdout",
     "output_type": "stream",
     "text": [
      "==================================================\n",
      "**************************************************\n",
      "hello\n",
      "hello\n",
      "hello\n",
      "hello\n",
      "hello\n",
      "**************************************************\n",
      "==================================================\n"
     ]
    }
   ],
   "source": [
    "def print_line():\n",
    "    print('='*50)\n",
    "\n",
    "def print_five():\n",
    "    for i in range(5):\n",
    "        print('hello')\n",
    "        \n",
    "def print_star():\n",
    "    print('*'*50)\n",
    "    \n",
    "def main():\n",
    "    print_line()\n",
    "    print_star()\n",
    "    print_five()\n",
    "    print_star()\n",
    "    print_line()\n",
    "    \n",
    "main()"
   ]
  },
  {
   "cell_type": "code",
   "execution_count": 12,
   "id": "51b95d4c",
   "metadata": {},
   "outputs": [
    {
     "name": "stdout",
     "output_type": "stream",
     "text": [
      "14\n",
      "55\n"
     ]
    }
   ],
   "source": [
    "def square(x):\n",
    "    return x**2\n",
    "\n",
    "def my_sum(x):\n",
    "    result = 0\n",
    "    for i in range(x+1):\n",
    "        result = result + square(i)\n",
    "    return result\n",
    "\n",
    "print(my_sum(3))\n",
    "print(my_sum(5))"
   ]
  },
  {
   "cell_type": "markdown",
   "id": "b8ebbce6",
   "metadata": {},
   "source": [
    "## 5-9. 함수의 결과값을 입력값으로 사용"
   ]
  },
  {
   "cell_type": "code",
   "execution_count": 13,
   "id": "8c8887ca",
   "metadata": {},
   "outputs": [
    {
     "name": "stdout",
     "output_type": "stream",
     "text": [
      "10\n"
     ]
    }
   ],
   "source": [
    "def f(x):\n",
    "    return x**2\n",
    "\n",
    "def g(y):\n",
    "    return y+1\n",
    "\n",
    "print(g(f(3)))\n"
   ]
  },
  {
   "cell_type": "markdown",
   "id": "f84f5059-dbfa-4475-99fa-a5791e14bf00",
   "metadata": {},
   "source": [
    "## 연습문제"
   ]
  },
  {
   "cell_type": "markdown",
   "id": "aa0a2bc6-b9df-486b-b63d-3a0a0fb31b9a",
   "metadata": {},
   "source": [
    "7-1. 입력값 a,b를 순서대로 받아 a를 b로 나눈 몫과 나머지를 각각 반환하는 함수를 만들어보시오. 함수의 이름은 mok이다."
   ]
  },
  {
   "cell_type": "code",
   "execution_count": 30,
   "id": "88dea639-c4ec-4275-a41d-c63e66d3b7aa",
   "metadata": {},
   "outputs": [],
   "source": [
    "def mok(a, b):\n",
    "    ## 여기에 작성해 보세요.\n",
    "    \n",
    "    ##\n",
    "    return x,y"
   ]
  },
  {
   "cell_type": "code",
   "execution_count": 32,
   "id": "652c9397-1d56-46d9-84cc-bd5d656c0638",
   "metadata": {},
   "outputs": [],
   "source": [
    "# m,n = mok(7,2)\n",
    "# print(m,n)"
   ]
  },
  {
   "cell_type": "markdown",
   "id": "6707477d-6dee-49f7-93b3-07adf7990503",
   "metadata": {},
   "source": [
    "## 연습문제"
   ]
  },
  {
   "cell_type": "markdown",
   "id": "e82991be-676d-4241-bf41-8eb33e98fe25",
   "metadata": {
    "tags": []
   },
   "source": [
    "7-2. 어떤 수 n을 입력하면 1부터 n까지의 합을 계산하여 출력하는 함수를 만들어보시오. "
   ]
  },
  {
   "cell_type": "code",
   "execution_count": 31,
   "id": "5fde9bd0-e7c1-40a6-affd-e7ee5284b35b",
   "metadata": {},
   "outputs": [],
   "source": [
    "def my_sum(number):    \n",
    "    ## 이 부분을 작성해 보시오.\n",
    "    \n",
    "    ##\n",
    "    return result    "
   ]
  },
  {
   "cell_type": "code",
   "execution_count": 33,
   "id": "e2f861b0-f56b-458e-abec-a2468452cf33",
   "metadata": {},
   "outputs": [],
   "source": [
    "# y = my_sum(10)\n",
    "# print(y) ## 55가 출력되어야 함"
   ]
  },
  {
   "cell_type": "markdown",
   "id": "33097b04-20c7-4e1f-a48f-6729a308e061",
   "metadata": {},
   "source": [
    "## 연습문제"
   ]
  },
  {
   "cell_type": "markdown",
   "id": "4630ff63-3e9e-42de-9ba0-a46ea88b0559",
   "metadata": {},
   "source": [
    "7-3. 어떤 수 n을 입력여 짝수면 True, 홀수면 False를 출력하는 함수를 만들어보시오."
   ]
  },
  {
   "cell_type": "code",
   "execution_count": 34,
   "id": "25b9b338-f39c-4112-9875-246fbce2d31b",
   "metadata": {},
   "outputs": [],
   "source": [
    "def check_even(number):\n",
    "    ## 이 부분을 작성해 보시오.\n",
    "    \n",
    "    ##\n",
    "    return result    "
   ]
  },
  {
   "cell_type": "code",
   "execution_count": 35,
   "id": "279da38c-715f-4e6f-a544-a4fd37912784",
   "metadata": {},
   "outputs": [],
   "source": [
    "# y = check_even(7)\n",
    "# print(y) ## False가 출력되어야 함"
   ]
  },
  {
   "cell_type": "markdown",
   "id": "97b90ad5-d2bd-4e2c-8a29-d3efe4fd1012",
   "metadata": {},
   "source": [
    "## 연습문제"
   ]
  },
  {
   "cell_type": "markdown",
   "id": "7504222f-dd8b-4ab5-80ef-e8770459f2e1",
   "metadata": {},
   "source": [
    "7-4. 어떤수 n을 입력하면 1부터 n까지 짝수의 합만 계산하여 출력하는 함수를 만들어보시오. 위에서 작성한 check_even을 사용할 것.\n"
   ]
  },
  {
   "cell_type": "code",
   "execution_count": 36,
   "id": "3b78e3d8-e95a-4da4-8a95-1f0efc810412",
   "metadata": {},
   "outputs": [],
   "source": [
    "def myEvenSum(n):\n",
    "    ## 이 부분을 작성해 보시오.\n",
    "    \n",
    "    ##    \n",
    "    return result"
   ]
  },
  {
   "cell_type": "code",
   "execution_count": 37,
   "id": "580c906b-f718-44b6-99a6-a30667588fee",
   "metadata": {},
   "outputs": [],
   "source": [
    "# y = myEvenSum(7)\n",
    "# print(y) ## 2+4+6 = 12"
   ]
  }
 ],
 "metadata": {
  "kernelspec": {
   "display_name": "Python 3 (ipykernel)",
   "language": "python",
   "name": "python3"
  },
  "language_info": {
   "codemirror_mode": {
    "name": "ipython",
    "version": 3
   },
   "file_extension": ".py",
   "mimetype": "text/x-python",
   "name": "python",
   "nbconvert_exporter": "python",
   "pygments_lexer": "ipython3",
   "version": "3.8.10"
  },
  "toc": {
   "base_numbering": 1,
   "nav_menu": {},
   "number_sections": false,
   "sideBar": true,
   "skip_h1_title": false,
   "title_cell": "Table of Contents",
   "title_sidebar": "Contents",
   "toc_cell": false,
   "toc_position": {},
   "toc_section_display": true,
   "toc_window_display": false
  }
 },
 "nbformat": 4,
 "nbformat_minor": 5
}
