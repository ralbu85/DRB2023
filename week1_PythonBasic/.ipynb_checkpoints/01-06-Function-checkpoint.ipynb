{
 "cells": [
  {
   "cell_type": "markdown",
   "id": "8e3ba12a",
   "metadata": {},
   "source": [
    "# 05. 함수"
   ]
  },
  {
   "cell_type": "markdown",
   "id": "d604c2d1",
   "metadata": {},
   "source": [
    "## 05-1. 함수의 정의"
   ]
  },
  {
   "cell_type": "code",
   "execution_count": 1,
   "id": "1dc6300c",
   "metadata": {},
   "outputs": [
    {
     "name": "stdout",
     "output_type": "stream",
     "text": [
      "hello\n",
      "world\n"
     ]
    }
   ],
   "source": [
    "print('hello')\n",
    "print('world')"
   ]
  },
  {
   "cell_type": "code",
   "execution_count": 14,
   "id": "fa7a2685",
   "metadata": {},
   "outputs": [
    {
     "name": "stdout",
     "output_type": "stream",
     "text": [
      "hello\n",
      "world\n"
     ]
    }
   ],
   "source": [
    "def my_function():\n",
    "    print('hello')\n",
    "    print('world')\n",
    "\n",
    "my_function()"
   ]
  },
  {
   "cell_type": "code",
   "execution_count": 4,
   "id": "a62b2627",
   "metadata": {},
   "outputs": [
    {
     "name": "stdout",
     "output_type": "stream",
     "text": [
      "test\n",
      "hello\n",
      "world\n",
      "test\n"
     ]
    }
   ],
   "source": [
    "print('test')\n",
    "my_function()\n",
    "print('test')"
   ]
  },
  {
   "cell_type": "markdown",
   "id": "d3af09ec",
   "metadata": {},
   "source": [
    "## 05-2. 함수의 정의 (입력변수)"
   ]
  },
  {
   "cell_type": "code",
   "execution_count": 3,
   "id": "7eb7a5e3",
   "metadata": {},
   "outputs": [],
   "source": [
    "def double(x):\n",
    "    result = 2*x\n",
    "    print(result)"
   ]
  },
  {
   "cell_type": "code",
   "execution_count": 5,
   "id": "6fd8ba6f",
   "metadata": {},
   "outputs": [
    {
     "name": "stdout",
     "output_type": "stream",
     "text": [
      "6\n",
      "8\n",
      "10\n"
     ]
    }
   ],
   "source": [
    "double(3)\n",
    "double(4)\n",
    "double(5)"
   ]
  },
  {
   "cell_type": "code",
   "execution_count": 10,
   "id": "a62525e2",
   "metadata": {},
   "outputs": [
    {
     "name": "stdout",
     "output_type": "stream",
     "text": [
      "6\n",
      "None\n"
     ]
    }
   ],
   "source": [
    "## 왜 이런 결과가 나왔을까?\n",
    "my = double(3)\n",
    "print(my)"
   ]
  },
  {
   "cell_type": "markdown",
   "id": "21e0bc07",
   "metadata": {},
   "source": [
    "## 05-3. 함수의 정의 (출력변수)"
   ]
  },
  {
   "cell_type": "code",
   "execution_count": 12,
   "id": "f60be58f",
   "metadata": {},
   "outputs": [],
   "source": [
    "def double(x):\n",
    "    return x*2"
   ]
  },
  {
   "cell_type": "code",
   "execution_count": 13,
   "id": "39f590ef",
   "metadata": {},
   "outputs": [
    {
     "name": "stdout",
     "output_type": "stream",
     "text": [
      "4\n",
      "20\n",
      "60\n"
     ]
    }
   ],
   "source": [
    "y=double(2)\n",
    "print(y)\n",
    "y=double(10)\n",
    "print(y)\n",
    "z=double(30)\n",
    "print(z)"
   ]
  },
  {
   "cell_type": "markdown",
   "id": "1f684201",
   "metadata": {},
   "source": [
    "## 05-4. 입력값이 여러개인 함수"
   ]
  },
  {
   "cell_type": "markdown",
   "id": "187591c7",
   "metadata": {},
   "source": [
    "- jegop(2,3) --> 8\n",
    "- jegop(3,4) --> 81"
   ]
  },
  {
   "cell_type": "code",
   "execution_count": 11,
   "id": "21983e7f",
   "metadata": {},
   "outputs": [
    {
     "data": {
      "text/plain": [
       "8"
      ]
     },
     "execution_count": 11,
     "metadata": {},
     "output_type": "execute_result"
    }
   ],
   "source": [
    "def jegop(x,y):\n",
    "    return x**y\n",
    "\n",
    "jegop(2,3) "
   ]
  },
  {
   "cell_type": "code",
   "execution_count": 12,
   "id": "0758874a",
   "metadata": {},
   "outputs": [
    {
     "data": {
      "text/plain": [
       "81"
      ]
     },
     "execution_count": 12,
     "metadata": {},
     "output_type": "execute_result"
    }
   ],
   "source": [
    "jegop(3,4)"
   ]
  },
  {
   "cell_type": "markdown",
   "id": "6a6627f4-323c-4ccb-9530-34743da302d0",
   "metadata": {},
   "source": [
    "## 05-5. 출력값이 여러개인 함수"
   ]
  },
  {
   "cell_type": "code",
   "execution_count": 1,
   "id": "081dab9f-4032-46cb-a2e1-e85660697247",
   "metadata": {},
   "outputs": [],
   "source": [
    "def power(a,b):    \n",
    "    return a,a**b\n",
    "\n",
    "a,b = power(2,3)"
   ]
  },
  {
   "cell_type": "code",
   "execution_count": 2,
   "id": "5459cfb0-5270-4f3e-8abc-d1c8eaeba6a1",
   "metadata": {},
   "outputs": [
    {
     "name": "stdout",
     "output_type": "stream",
     "text": [
      "2 8\n"
     ]
    }
   ],
   "source": [
    "print(a,b)"
   ]
  },
  {
   "cell_type": "markdown",
   "id": "ff5c9946",
   "metadata": {},
   "source": [
    "## 05-5. 지역변수"
   ]
  },
  {
   "cell_type": "markdown",
   "id": "a2d293f3",
   "metadata": {},
   "source": [
    "- 함수에 사용되는 변수들은 함수 안에서만 의미있다.\n",
    "- 즉, 함수 밖에서 사용할 수 없다."
   ]
  },
  {
   "cell_type": "code",
   "execution_count": 23,
   "id": "0673e562",
   "metadata": {},
   "outputs": [],
   "source": [
    "def tenTimes(x):\n",
    "    result = x*10\n",
    "    return result"
   ]
  },
  {
   "cell_type": "code",
   "execution_count": 24,
   "id": "c36863dc",
   "metadata": {},
   "outputs": [
    {
     "ename": "NameError",
     "evalue": "name 'result' is not defined",
     "output_type": "error",
     "traceback": [
      "\u001b[0;31m---------------------------------------------------------------------------\u001b[0m",
      "\u001b[0;31mNameError\u001b[0m                                 Traceback (most recent call last)",
      "\u001b[0;32m<ipython-input-24-0ac921c19f1a>\u001b[0m in \u001b[0;36m<module>\u001b[0;34m\u001b[0m\n\u001b[0;32m----> 1\u001b[0;31m \u001b[0mresult\u001b[0m\u001b[0;34m\u001b[0m\u001b[0;34m\u001b[0m\u001b[0m\n\u001b[0m",
      "\u001b[0;31mNameError\u001b[0m: name 'result' is not defined"
     ]
    }
   ],
   "source": [
    "result"
   ]
  },
  {
   "cell_type": "code",
   "execution_count": 25,
   "id": "6f26f290",
   "metadata": {},
   "outputs": [
    {
     "data": {
      "text/plain": [
       "20"
      ]
     },
     "execution_count": 25,
     "metadata": {},
     "output_type": "execute_result"
    }
   ],
   "source": [
    "result=10\n",
    "tenTimes(2)"
   ]
  },
  {
   "cell_type": "code",
   "execution_count": 28,
   "id": "e06dd531",
   "metadata": {},
   "outputs": [
    {
     "data": {
      "text/plain": [
       "10"
      ]
     },
     "execution_count": 28,
     "metadata": {},
     "output_type": "execute_result"
    }
   ],
   "source": [
    "result"
   ]
  },
  {
   "cell_type": "markdown",
   "id": "c83189ad",
   "metadata": {},
   "source": [
    "- 함수안의 result값은 함수 안에서만 유효하다, 즉 함수 밖의 result와 함수 안의 result는 다르다."
   ]
  },
  {
   "cell_type": "markdown",
   "id": "18939242",
   "metadata": {},
   "source": [
    "## 5-6. 함수를 사용한 프로그램 구조화"
   ]
  },
  {
   "cell_type": "code",
   "execution_count": 5,
   "id": "1b020963",
   "metadata": {},
   "outputs": [
    {
     "name": "stdout",
     "output_type": "stream",
     "text": [
      "==================================================\n",
      "**************************************************\n",
      "hello\n",
      "hello\n",
      "hello\n",
      "hello\n",
      "hello\n",
      "**************************************************\n",
      "==================================================\n"
     ]
    }
   ],
   "source": [
    "def print_line():\n",
    "    print('='*50)\n",
    "\n",
    "def print_five():\n",
    "    for i in range(5):\n",
    "        print('hello')\n",
    "        \n",
    "def print_star():\n",
    "    print('*'*50)\n",
    "    \n",
    "print_line()\n",
    "print_star()\n",
    "print_five()\n",
    "print_star()\n",
    "print_line()"
   ]
  },
  {
   "cell_type": "markdown",
   "id": "eb5e3f4f",
   "metadata": {},
   "source": [
    "## 5-7. 함수의 입출력값에는 제한이 없다"
   ]
  },
  {
   "cell_type": "code",
   "execution_count": 7,
   "id": "2b4f9aaa",
   "metadata": {},
   "outputs": [
    {
     "name": "stdout",
     "output_type": "stream",
     "text": [
      "25\n"
     ]
    }
   ],
   "source": [
    "def sum_list(a):\n",
    "    result=0\n",
    "    for i in a:\n",
    "        result = result + i\n",
    "    return result\n",
    "\n",
    "inputList = [1,3,5,7,9]\n",
    "output = sum_list(inputList)\n",
    "print(output)"
   ]
  },
  {
   "cell_type": "code",
   "execution_count": 8,
   "id": "dcb57eb6",
   "metadata": {},
   "outputs": [
    {
     "ename": "TypeError",
     "evalue": "'int' object is not iterable",
     "output_type": "error",
     "traceback": [
      "\u001b[0;31m---------------------------------------------------------------------------\u001b[0m",
      "\u001b[0;31mTypeError\u001b[0m                                 Traceback (most recent call last)",
      "\u001b[0;32m<ipython-input-8-114a0811582d>\u001b[0m in \u001b[0;36m<module>\u001b[0;34m\u001b[0m\n\u001b[0;32m----> 1\u001b[0;31m \u001b[0msum_list\u001b[0m\u001b[0;34m(\u001b[0m\u001b[0;36m3\u001b[0m\u001b[0;34m)\u001b[0m\u001b[0;34m\u001b[0m\u001b[0;34m\u001b[0m\u001b[0m\n\u001b[0m",
      "\u001b[0;32m<ipython-input-7-a634a7d8a67e>\u001b[0m in \u001b[0;36msum_list\u001b[0;34m(a)\u001b[0m\n\u001b[1;32m      1\u001b[0m \u001b[0;32mdef\u001b[0m \u001b[0msum_list\u001b[0m\u001b[0;34m(\u001b[0m\u001b[0ma\u001b[0m\u001b[0;34m)\u001b[0m\u001b[0;34m:\u001b[0m\u001b[0;34m\u001b[0m\u001b[0;34m\u001b[0m\u001b[0m\n\u001b[1;32m      2\u001b[0m     \u001b[0mresult\u001b[0m\u001b[0;34m=\u001b[0m\u001b[0;36m0\u001b[0m\u001b[0;34m\u001b[0m\u001b[0;34m\u001b[0m\u001b[0m\n\u001b[0;32m----> 3\u001b[0;31m     \u001b[0;32mfor\u001b[0m \u001b[0mi\u001b[0m \u001b[0;32min\u001b[0m \u001b[0ma\u001b[0m\u001b[0;34m:\u001b[0m\u001b[0;34m\u001b[0m\u001b[0;34m\u001b[0m\u001b[0m\n\u001b[0m\u001b[1;32m      4\u001b[0m         \u001b[0mresult\u001b[0m \u001b[0;34m=\u001b[0m \u001b[0mresult\u001b[0m \u001b[0;34m+\u001b[0m \u001b[0mi\u001b[0m\u001b[0;34m\u001b[0m\u001b[0;34m\u001b[0m\u001b[0m\n\u001b[1;32m      5\u001b[0m     \u001b[0;32mreturn\u001b[0m \u001b[0mresult\u001b[0m\u001b[0;34m\u001b[0m\u001b[0;34m\u001b[0m\u001b[0m\n",
      "\u001b[0;31mTypeError\u001b[0m: 'int' object is not iterable"
     ]
    }
   ],
   "source": [
    "sum_list(3)"
   ]
  },
  {
   "cell_type": "markdown",
   "id": "038bb883",
   "metadata": {},
   "source": [
    "## 5-8. 함수안에 함수"
   ]
  },
  {
   "cell_type": "code",
   "execution_count": 11,
   "id": "70399c14",
   "metadata": {},
   "outputs": [
    {
     "name": "stdout",
     "output_type": "stream",
     "text": [
      "==================================================\n",
      "**************************************************\n",
      "hello\n",
      "hello\n",
      "hello\n",
      "hello\n",
      "hello\n",
      "**************************************************\n",
      "==================================================\n"
     ]
    }
   ],
   "source": [
    "def print_line():\n",
    "    print('='*50)\n",
    "\n",
    "def print_five():\n",
    "    for i in range(5):\n",
    "        print('hello')\n",
    "        \n",
    "def print_star():\n",
    "    print('*'*50)\n",
    "    \n",
    "def main():\n",
    "    print_line()\n",
    "    print_star()\n",
    "    print_five()\n",
    "    print_star()\n",
    "    print_line()\n",
    "    \n",
    "main()"
   ]
  },
  {
   "cell_type": "code",
   "execution_count": 12,
   "id": "51b95d4c",
   "metadata": {},
   "outputs": [
    {
     "name": "stdout",
     "output_type": "stream",
     "text": [
      "14\n",
      "55\n"
     ]
    }
   ],
   "source": [
    "def square(x):\n",
    "    return x**2\n",
    "\n",
    "def my_sum(x):\n",
    "    result = 0\n",
    "    for i in range(x+1):\n",
    "        result = result + square(i)\n",
    "    return result\n",
    "\n",
    "print(my_sum(3))\n",
    "print(my_sum(5))"
   ]
  },
  {
   "cell_type": "markdown",
   "id": "b8ebbce6",
   "metadata": {},
   "source": [
    "## 5-9. 함수의 결과값을 입력값으로 사용"
   ]
  },
  {
   "cell_type": "code",
   "execution_count": 13,
   "id": "8c8887ca",
   "metadata": {},
   "outputs": [
    {
     "name": "stdout",
     "output_type": "stream",
     "text": [
      "10\n"
     ]
    }
   ],
   "source": [
    "def f(x):\n",
    "    return x**2\n",
    "\n",
    "def g(y):\n",
    "    return y+1\n",
    "\n",
    "print(g(f(3)))\n"
   ]
  }
 ],
 "metadata": {
  "kernelspec": {
   "display_name": "Python 3 (ipykernel)",
   "language": "python",
   "name": "python3"
  },
  "language_info": {
   "codemirror_mode": {
    "name": "ipython",
    "version": 3
   },
   "file_extension": ".py",
   "mimetype": "text/x-python",
   "name": "python",
   "nbconvert_exporter": "python",
   "pygments_lexer": "ipython3",
   "version": "3.8.10"
  }
 },
 "nbformat": 4,
 "nbformat_minor": 5
}
