{
 "cells": [
  {
   "cell_type": "markdown",
   "id": "50011f0c-c1a0-4ef5-8f67-36496158134a",
   "metadata": {},
   "source": [
    "## 예약된 함수"
   ]
  },
  {
   "cell_type": "markdown",
   "id": "86da4079-a4f8-4dd1-9673-3c962e7674fb",
   "metadata": {},
   "source": [
    "* 파이썬에서 자주 사용되는 명령문들을 편리하게 사용할 수 있도록 미리 지정해 놓았다.\n",
    "* print : 변수나 값을 출력\n",
    "* input : 사용자 입력\n",
    "* int : 문자를 숫자로 변환\n",
    "* str : 숫자를 문자로 변환<br>\n",
    "<br>\n",
    "그외에도 여러가지가 있음\n",
    "\n"
   ]
  },
  {
   "cell_type": "markdown",
   "id": "c4259900-8927-4082-979f-c108186e1630",
   "metadata": {
    "tags": []
   },
   "source": [
    "## 모니터에 출력: print"
   ]
  },
  {
   "cell_type": "code",
   "execution_count": 1,
   "id": "af2481b9-2b66-4b34-a3dc-6834615d6ca2",
   "metadata": {},
   "outputs": [
    {
     "data": {
      "text/plain": [
       "1"
      ]
     },
     "execution_count": 1,
     "metadata": {},
     "output_type": "execute_result"
    }
   ],
   "source": [
    "1"
   ]
  },
  {
   "cell_type": "code",
   "execution_count": 2,
   "id": "f512db2b-2220-49b8-b0ca-a4dc3896b84c",
   "metadata": {},
   "outputs": [
    {
     "data": {
      "text/plain": [
       "50"
      ]
     },
     "execution_count": 2,
     "metadata": {},
     "output_type": "execute_result"
    }
   ],
   "source": [
    "# 셀에 그냥 값을 순서대로 넣을 경우 마지막 셀의 값만 출력됨\n",
    "1\n",
    "\"Hello\"\n",
    "\"123\"\n",
    "50"
   ]
  },
  {
   "cell_type": "code",
   "execution_count": 4,
   "id": "bfebb96b-0603-44a7-a89a-ee495781fd83",
   "metadata": {},
   "outputs": [
    {
     "name": "stdout",
     "output_type": "stream",
     "text": [
      "1\n",
      "Hello\n",
      "True\n"
     ]
    }
   ],
   "source": [
    "# print 함수는 괄호안에 들어가는 값이나 변수에 저장된 값을 모니터에 출력해준다\n",
    "print(1)\n",
    "print(\"Hello\")\n",
    "print(True)"
   ]
  },
  {
   "cell_type": "code",
   "execution_count": 5,
   "id": "8aeb58e6-0363-4f2d-9224-c7a95f4e6129",
   "metadata": {},
   "outputs": [
    {
     "name": "stdout",
     "output_type": "stream",
     "text": [
      "123\n",
      "456\n"
     ]
    }
   ],
   "source": [
    "# print 함수는 변수에 저장된 값도 출력 가능하다\n",
    "x = 123\n",
    "y = 456\n",
    "print(x)\n",
    "print(y)"
   ]
  },
  {
   "cell_type": "code",
   "execution_count": 6,
   "id": "3eb4e045-7505-408b-83a9-d87d4848b9b4",
   "metadata": {},
   "outputs": [
    {
     "name": "stdout",
     "output_type": "stream",
     "text": [
      "123 456 Hello True\n"
     ]
    }
   ],
   "source": [
    "# print 함수는 콤마로 여러개의 값을 동시에 출력할 수 있다\n",
    "print(x,y, 'Hello', True)"
   ]
  },
  {
   "cell_type": "markdown",
   "id": "84e21ea4-0671-49c8-a14b-ed6ff46c2937",
   "metadata": {
    "tags": []
   },
   "source": [
    "## 프로그램 실행중 사용자 입력: input"
   ]
  },
  {
   "cell_type": "markdown",
   "id": "c9772b4e-a4f0-4252-a870-3d3394a0f3c1",
   "metadata": {},
   "source": [
    "프로그램 실행시 사용자의 입력을 기다림,\n",
    "사용자가 특정 값을 입력하고 enter를 누르면, 결과 변수에 입력값이 저장됨\n",
    "(주의사항: 모든 입력값은 문자열값으로 간주됨)"
   ]
  },
  {
   "cell_type": "code",
   "execution_count": 9,
   "id": "a8524b1c-128f-4ca0-9e08-ffe2ce634630",
   "metadata": {},
   "outputs": [
    {
     "name": "stdin",
     "output_type": "stream",
     "text": [
      "값을 입력하세요 1\n"
     ]
    },
    {
     "data": {
      "text/plain": [
       "'1'"
      ]
     },
     "execution_count": 9,
     "metadata": {},
     "output_type": "execute_result"
    }
   ],
   "source": [
    "# 괄호안에 들어가는 문자열은 안내 메시지\n",
    "# 대입연산자 왼쪽의 변수에 사용자가 입력한 값이 저장된다\n",
    "x = input(\"값을 입력하세요\")\n",
    "x"
   ]
  },
  {
   "cell_type": "code",
   "execution_count": 14,
   "id": "003af9bb-bbd1-41b2-8df2-dcd3db3c5814",
   "metadata": {},
   "outputs": [
    {
     "name": "stdin",
     "output_type": "stream",
     "text": [
      "값을 입력하세요??? asd\n"
     ]
    },
    {
     "name": "stdout",
     "output_type": "stream",
     "text": [
      "asd\n"
     ]
    }
   ],
   "source": [
    "y = input(\"값을 입력하세요???\")\n",
    "print(y)"
   ]
  },
  {
   "cell_type": "markdown",
   "id": "72da4ec2-68f3-4e58-a593-94b06237785a",
   "metadata": {
    "tags": []
   },
   "source": [
    "## 값의 변환(문자열->숫자)"
   ]
  },
  {
   "cell_type": "code",
   "execution_count": 18,
   "id": "4d88cd25-760e-475e-b45a-25e59407dac6",
   "metadata": {},
   "outputs": [
    {
     "data": {
      "text/plain": [
       "123"
      ]
     },
     "execution_count": 18,
     "metadata": {},
     "output_type": "execute_result"
    }
   ],
   "source": [
    "x = int('123') # 문자열이지만 숫자라면 int 명령어를 통해 정수형 숫자로 바꿀 수 있음\n",
    "x"
   ]
  },
  {
   "cell_type": "code",
   "execution_count": 19,
   "id": "0943eede-260c-418b-a323-893bbeec82f7",
   "metadata": {},
   "outputs": [
    {
     "data": {
      "text/plain": [
       "153"
      ]
     },
     "execution_count": 19,
     "metadata": {},
     "output_type": "execute_result"
    }
   ],
   "source": [
    "x+30"
   ]
  },
  {
   "cell_type": "markdown",
   "id": "5b7fde91-134f-43c7-b576-7d0a9752223b",
   "metadata": {
    "tags": []
   },
   "source": [
    "## 값의 변환(숫자->문자열)"
   ]
  },
  {
   "cell_type": "code",
   "execution_count": 7,
   "id": "f73d8a8a-af80-4409-b501-b38296c6e705",
   "metadata": {},
   "outputs": [
    {
     "name": "stdout",
     "output_type": "stream",
     "text": [
      "123\n"
     ]
    }
   ],
   "source": [
    "x = str(123)\n",
    "print(x)"
   ]
  },
  {
   "cell_type": "markdown",
   "id": "d7049538-6526-4ef9-adb5-597ef06cd74a",
   "metadata": {},
   "source": [
    "## 연습문제"
   ]
  },
  {
   "cell_type": "markdown",
   "id": "93ea0a78-793a-4add-8c5a-cda83a25dfa8",
   "metadata": {},
   "source": [
    "프로그램을 실행하면 “값을 입력하세요” 라는 안내문이 출력되고 사용자가 숫자를 입력하면 입력한 숫자에 50을 더하여 출력하는 프로그램을 만들어 보시오\n"
   ]
  },
  {
   "cell_type": "code",
   "execution_count": 10,
   "id": "8cda80cf-4ca0-4f1f-bbf6-ce30a23df346",
   "metadata": {},
   "outputs": [
    {
     "name": "stdin",
     "output_type": "stream",
     "text": [
      "값을 입력하세요 30\n"
     ]
    },
    {
     "name": "stdout",
     "output_type": "stream",
     "text": [
      "80\n"
     ]
    }
   ],
   "source": []
  },
  {
   "cell_type": "markdown",
   "id": "c3433336-b86c-4553-980e-f84f17feb7b6",
   "metadata": {},
   "source": [
    "## 연습문제"
   ]
  },
  {
   "cell_type": "markdown",
   "id": "85bc5906-3d6e-410a-9b2f-11855ac89034",
   "metadata": {},
   "source": [
    "프로그램을 실행하면 “값을 입력하세요” 라는 안내문이 출력되고 사용자가 숫자를 입력하면 입력한 숫자에 50을 더하여 출력하는 프로그램을 만들어 보시오"
   ]
  },
  {
   "cell_type": "code",
   "execution_count": null,
   "id": "96cfff4c-aad0-41d0-8ab4-d9141e19e873",
   "metadata": {},
   "outputs": [],
   "source": []
  }
 ],
 "metadata": {
  "kernelspec": {
   "display_name": "Python 3 (ipykernel)",
   "language": "python",
   "name": "python3"
  },
  "language_info": {
   "codemirror_mode": {
    "name": "ipython",
    "version": 3
   },
   "file_extension": ".py",
   "mimetype": "text/x-python",
   "name": "python",
   "nbconvert_exporter": "python",
   "pygments_lexer": "ipython3",
   "version": "3.8.10"
  }
 },
 "nbformat": 4,
 "nbformat_minor": 5
}
