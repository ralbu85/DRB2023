{
 "cells": [
  {
   "cell_type": "markdown",
   "id": "be85ffad-16c2-4f07-9764-c1d63f1ba904",
   "metadata": {},
   "source": [
    "# 2. 변수 (Variable)"
   ]
  },
  {
   "cell_type": "markdown",
   "id": "entitled-motion",
   "metadata": {
    "tags": []
   },
   "source": [
    "## 2-1. 변수(Variable)"
   ]
  },
  {
   "cell_type": "markdown",
   "id": "comfortable-berkeley",
   "metadata": {},
   "source": [
    "- 값: 컴퓨터 메모리 안에 저장되어 있음\n",
    "- 변수: 메모리안에 저장된 값을 가리키는 리모컨\n",
    "- 변수를 통해 메모리안에 저장된 값에 접근할 수 있다."
   ]
  },
  {
   "cell_type": "code",
   "execution_count": 1,
   "id": "suitable-simpson",
   "metadata": {},
   "outputs": [
    {
     "ename": "NameError",
     "evalue": "name 'pi' is not defined",
     "output_type": "error",
     "traceback": [
      "\u001b[0;31m---------------------------------------------------------------------------\u001b[0m",
      "\u001b[0;31mNameError\u001b[0m                                 Traceback (most recent call last)",
      "\u001b[0;32m/tmp/ipykernel_40875/3958832954.py\u001b[0m in \u001b[0;36m<module>\u001b[0;34m\u001b[0m\n\u001b[1;32m      1\u001b[0m \u001b[0;31m# 다음과 같이 실행하면 에러가 발생\u001b[0m\u001b[0;34m\u001b[0m\u001b[0;34m\u001b[0m\u001b[0;34m\u001b[0m\u001b[0m\n\u001b[0;32m----> 2\u001b[0;31m \u001b[0mpi\u001b[0m\u001b[0;34m\u001b[0m\u001b[0;34m\u001b[0m\u001b[0m\n\u001b[0m",
      "\u001b[0;31mNameError\u001b[0m: name 'pi' is not defined"
     ]
    }
   ],
   "source": [
    "# 다음과 같이 실행하면 에러가 발생\n",
    "pi"
   ]
  },
  {
   "cell_type": "code",
   "execution_count": 3,
   "id": "lyric-purchase",
   "metadata": {},
   "outputs": [],
   "source": [
    "# 할당 연산자 =를 사용하여 변수에 값을 할당\n",
    "# 변수 = 값\n",
    "pi = 3.141592"
   ]
  },
  {
   "cell_type": "code",
   "execution_count": 4,
   "id": "particular-course",
   "metadata": {},
   "outputs": [
    {
     "data": {
      "text/plain": [
       "100"
      ]
     },
     "execution_count": 4,
     "metadata": {},
     "output_type": "execute_result"
    }
   ],
   "source": [
    "# 기존 변수에 새로운 값을 덮어쓸수 있다\n",
    "pi = 100\n",
    "pi"
   ]
  },
  {
   "cell_type": "code",
   "execution_count": 5,
   "id": "delayed-october",
   "metadata": {},
   "outputs": [
    {
     "data": {
      "text/plain": [
       "'hello world'"
      ]
     },
     "execution_count": 5,
     "metadata": {},
     "output_type": "execute_result"
    }
   ],
   "source": [
    "# 변수에 저장할 수 있는 값의 형태에는 제한이 없다\n",
    "pi = 'hello world'\n",
    "pi"
   ]
  },
  {
   "cell_type": "code",
   "execution_count": 7,
   "id": "eastern-canvas",
   "metadata": {},
   "outputs": [
    {
     "data": {
      "text/plain": [
       "True"
      ]
     },
     "execution_count": 7,
     "metadata": {},
     "output_type": "execute_result"
    }
   ],
   "source": [
    "# 변수에 저장할 수 있는 값의 형태에는 제한이 없다\n",
    "pi = True\n",
    "pi"
   ]
  },
  {
   "cell_type": "code",
   "execution_count": 8,
   "id": "5a5be4f4-449e-4968-b17c-9292c27094d1",
   "metadata": {},
   "outputs": [],
   "source": [
    "# 변수는 마음대로 생성할 수 있다\n",
    "jihwan = 123\n",
    "x = 33\n",
    "y = 72"
   ]
  },
  {
   "cell_type": "markdown",
   "id": "9be48a25-48d6-49cb-9da7-a7b86370b1ea",
   "metadata": {},
   "source": [
    "## 셀의 실행순서"
   ]
  },
  {
   "cell_type": "code",
   "execution_count": 9,
   "id": "11cae19e-e294-4e14-b650-eb4cdd94d115",
   "metadata": {},
   "outputs": [
    {
     "data": {
      "text/plain": [
       "123"
      ]
     },
     "execution_count": 9,
     "metadata": {},
     "output_type": "execute_result"
    }
   ],
   "source": [
    "# 위에서 정의한 변수를 다음 셀에서 다음과 같이 사용할 수 있다\n",
    "jihwan"
   ]
  },
  {
   "cell_type": "code",
   "execution_count": 10,
   "id": "05c5a0d1-d02c-487b-91f8-f0a5d761bc50",
   "metadata": {},
   "outputs": [
    {
     "data": {
      "text/plain": [
       "33"
      ]
     },
     "execution_count": 10,
     "metadata": {},
     "output_type": "execute_result"
    }
   ],
   "source": [
    "x"
   ]
  },
  {
   "cell_type": "markdown",
   "id": "e905faf9-0976-4c63-9a9e-2d8c6585ffa1",
   "metadata": {},
   "source": [
    "## 변수명 규칙"
   ]
  },
  {
   "cell_type": "code",
   "execution_count": 9,
   "id": "5a7dab40-1c88-4452-8259-1c29e1b52b4f",
   "metadata": {},
   "outputs": [],
   "source": [
    "x = 123\n",
    "x_1 = 123\n",
    "AAA = 123"
   ]
  },
  {
   "cell_type": "code",
   "execution_count": 10,
   "id": "56d18e61-c464-40bc-a1fb-6de23755ac65",
   "metadata": {},
   "outputs": [
    {
     "ename": "SyntaxError",
     "evalue": "invalid syntax (920029769.py, line 1)",
     "output_type": "error",
     "traceback": [
      "\u001b[0;36m  File \u001b[0;32m\"/tmp/ipykernel_36638/920029769.py\"\u001b[0;36m, line \u001b[0;32m1\u001b[0m\n\u001b[0;31m    12X = 123\u001b[0m\n\u001b[0m      ^\u001b[0m\n\u001b[0;31mSyntaxError\u001b[0m\u001b[0;31m:\u001b[0m invalid syntax\n"
     ]
    }
   ],
   "source": [
    "## 잘못된 사례\n",
    "12X = 123"
   ]
  },
  {
   "cell_type": "code",
   "execution_count": 11,
   "id": "6a17ba26-1e21-47e0-8d8e-aeef2b4c63a0",
   "metadata": {},
   "outputs": [
    {
     "ename": "SyntaxError",
     "evalue": "cannot assign to literal (3411350496.py, line 1)",
     "output_type": "error",
     "traceback": [
      "\u001b[0;36m  File \u001b[0;32m\"/tmp/ipykernel_36638/3411350496.py\"\u001b[0;36m, line \u001b[0;32m1\u001b[0m\n\u001b[0;31m    23 = 23\u001b[0m\n\u001b[0m    ^\u001b[0m\n\u001b[0;31mSyntaxError\u001b[0m\u001b[0;31m:\u001b[0m cannot assign to literal\n"
     ]
    }
   ],
   "source": [
    "## 잘못된 사례\n",
    "23 = 23"
   ]
  },
  {
   "cell_type": "code",
   "execution_count": 13,
   "id": "7750492f-164c-4c4d-9bb5-2ff292f31220",
   "metadata": {},
   "outputs": [
    {
     "ename": "SyntaxError",
     "evalue": "cannot assign to operator (3766225802.py, line 1)",
     "output_type": "error",
     "traceback": [
      "\u001b[0;36m  File \u001b[0;32m\"/tmp/ipykernel_36638/3766225802.py\"\u001b[0;36m, line \u001b[0;32m1\u001b[0m\n\u001b[0;31m    ~X =123\u001b[0m\n\u001b[0m    ^\u001b[0m\n\u001b[0;31mSyntaxError\u001b[0m\u001b[0;31m:\u001b[0m cannot assign to operator\n"
     ]
    }
   ],
   "source": [
    "## 잘못된 사례\n",
    "~X =123"
   ]
  },
  {
   "cell_type": "markdown",
   "id": "e0b71ad7-afae-46d0-aed1-4eaf9cf023f3",
   "metadata": {},
   "source": [
    "## 연습문제"
   ]
  },
  {
   "cell_type": "markdown",
   "id": "9f3424df-2c47-4e15-a304-1344269320b7",
   "metadata": {},
   "source": [
    "변수명 규칙을 따르는 5개의 변수를 만들어 보고, 각각에 다양한 종류의 값을 대입해보세요"
   ]
  },
  {
   "cell_type": "code",
   "execution_count": 21,
   "id": "4d3b1231-6d3c-4add-8da9-7f321331a45a",
   "metadata": {},
   "outputs": [
    {
     "data": {
      "text/plain": [
       "123"
      ]
     },
     "execution_count": 21,
     "metadata": {},
     "output_type": "execute_result"
    }
   ],
   "source": [
    "x =123\n",
    "x"
   ]
  },
  {
   "cell_type": "code",
   "execution_count": 22,
   "id": "22f0a94d-8aba-4f09-9407-68c6119cadbc",
   "metadata": {},
   "outputs": [
    {
     "data": {
      "text/plain": [
       "'123'"
      ]
     },
     "execution_count": 22,
     "metadata": {},
     "output_type": "execute_result"
    }
   ],
   "source": [
    "y=str(x)\n",
    "y"
   ]
  },
  {
   "cell_type": "markdown",
   "id": "bc0f0c37-9f2c-46fe-a5b5-cd1b5ea76822",
   "metadata": {},
   "source": [
    "* 셀 실행시 값을 모니터로 출력해주는 함수\n",
    "* 괄호안에 출력하는 값을 넣어주면, 입력된 값을 화면에 출력함\n",
    "* ,를 이용해 여러 개의 값을 동시에 출력할 수 있음"
   ]
  },
  {
   "cell_type": "code",
   "execution_count": 1,
   "id": "767c5e28-4ad6-4189-8162-57fd17c3f604",
   "metadata": {},
   "outputs": [
    {
     "data": {
      "text/plain": [
       "4"
      ]
     },
     "execution_count": 1,
     "metadata": {},
     "output_type": "execute_result"
    }
   ],
   "source": [
    "1\n",
    "2\n",
    "3\n",
    "4"
   ]
  },
  {
   "cell_type": "code",
   "execution_count": 2,
   "id": "2c1f7058-a3eb-4520-b85c-279c0089864c",
   "metadata": {},
   "outputs": [
    {
     "name": "stdout",
     "output_type": "stream",
     "text": [
      "1\n",
      "2\n",
      "3\n",
      "4\n"
     ]
    }
   ],
   "source": [
    "print(1)\n",
    "print(2)\n",
    "print(3)\n",
    "print(4)"
   ]
  },
  {
   "cell_type": "code",
   "execution_count": 3,
   "id": "eaaf5913-ed48-4c52-a010-fb4949ae691c",
   "metadata": {},
   "outputs": [
    {
     "name": "stdout",
     "output_type": "stream",
     "text": [
      "1 2 3 4\n"
     ]
    }
   ],
   "source": [
    "print(1,2,3,4)"
   ]
  },
  {
   "cell_type": "code",
   "execution_count": 4,
   "id": "66b13fbf-7598-423f-9792-37e2fb7565c3",
   "metadata": {},
   "outputs": [
    {
     "name": "stdout",
     "output_type": "stream",
     "text": [
      "Hello True 1 2 Ya\n"
     ]
    }
   ],
   "source": [
    "print(\"Hello\", True, 1, 2, 'Ya')"
   ]
  }
 ],
 "metadata": {
  "kernelspec": {
   "display_name": "Python 3 (ipykernel)",
   "language": "python",
   "name": "python3"
  },
  "language_info": {
   "codemirror_mode": {
    "name": "ipython",
    "version": 3
   },
   "file_extension": ".py",
   "mimetype": "text/x-python",
   "name": "python",
   "nbconvert_exporter": "python",
   "pygments_lexer": "ipython3",
   "version": "3.8.10"
  }
 },
 "nbformat": 4,
 "nbformat_minor": 5
}
