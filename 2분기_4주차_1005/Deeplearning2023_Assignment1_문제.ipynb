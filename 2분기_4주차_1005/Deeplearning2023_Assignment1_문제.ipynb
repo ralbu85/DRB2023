{
  "nbformat": 4,
  "nbformat_minor": 0,
  "metadata": {
    "colab": {
      "provenance": [],
      "toc_visible": true
    },
    "kernelspec": {
      "name": "python3",
      "display_name": "Python 3"
    },
    "language_info": {
      "name": "python"
    }
  },
  "cells": [
    {
      "cell_type": "markdown",
      "source": [
        "## Setting"
      ],
      "metadata": {
        "id": "uTg4s8j1Ss47"
      }
    },
    {
      "cell_type": "code",
      "source": [
        "from google.colab import drive\n",
        "drive.mount('/content/drive')"
      ],
      "metadata": {
        "id": "MXRTMLBRSsgB"
      },
      "execution_count": null,
      "outputs": []
    },
    {
      "cell_type": "markdown",
      "source": [
        "## 문제 1: Numpy Array 다루기"
      ],
      "metadata": {
        "id": "hWW9-kT7S1Le"
      }
    },
    {
      "cell_type": "code",
      "source": [
        "import numpy as np"
      ],
      "metadata": {
        "id": "O77lPTEZSsj-"
      },
      "execution_count": null,
      "outputs": []
    },
    {
      "cell_type": "markdown",
      "source": [
        "**1-1.** 크기가 3인 1차원 Numpy Array를 생성하여 arr1이라는 이름으로 저장하고 출력해보세요."
      ],
      "metadata": {
        "id": "rJ2TH9weTDlF"
      }
    },
    {
      "cell_type": "code",
      "source": [],
      "metadata": {
        "id": "4PGQUweeUntd"
      },
      "execution_count": null,
      "outputs": []
    },
    {
      "cell_type": "markdown",
      "source": [
        "**1-2.** 3x3 크기의 2차원 행렬을 Numpy Array로 생성하여 mat1이라는 이름으로 저장하고 출력해보세요."
      ],
      "metadata": {
        "id": "k5BzJD58TIks"
      }
    },
    {
      "cell_type": "code",
      "source": [],
      "metadata": {
        "id": "wg5i26s_SsmI"
      },
      "execution_count": null,
      "outputs": []
    },
    {
      "cell_type": "markdown",
      "source": [
        "**1-3.** mat1의 전치행렬을 출력해보세요."
      ],
      "metadata": {
        "id": "rtnJmemITLJZ"
      }
    },
    {
      "cell_type": "code",
      "source": [],
      "metadata": {
        "id": "BAtxBk-kSsoV"
      },
      "execution_count": null,
      "outputs": []
    },
    {
      "cell_type": "markdown",
      "source": [
        "**1-4.** arr1과 mat1의 각 원소를 더한 결과를 출력해보세요. *(hint: reshape)*"
      ],
      "metadata": {
        "id": "-Hl4jxGETM8J"
      }
    },
    {
      "cell_type": "code",
      "source": [],
      "metadata": {
        "id": "MixyD7HmSsqW"
      },
      "execution_count": null,
      "outputs": []
    },
    {
      "cell_type": "markdown",
      "source": [
        "## **문제 2:** 그래프 그리기"
      ],
      "metadata": {
        "id": "C-PRWCApTOLb"
      }
    },
    {
      "cell_type": "code",
      "source": [
        "import matplotlib.pyplot as plt"
      ],
      "metadata": {
        "id": "EtUnvCvHTQUM"
      },
      "execution_count": null,
      "outputs": []
    },
    {
      "cell_type": "markdown",
      "source": [
        "**2-1.** 0에서 10까지 0.1 간격으로 숫자를 생성하고, 해당 숫자들의 sin값과 cos값을 구하여 선 그래프로 그려보세요. *(hint: np.arange)*"
      ],
      "metadata": {
        "id": "xbua9o_iTSEo"
      }
    },
    {
      "cell_type": "code",
      "source": [],
      "metadata": {
        "id": "J9IMUK-DTU7l"
      },
      "execution_count": null,
      "outputs": []
    },
    {
      "cell_type": "markdown",
      "source": [
        "**2-2.** 위 그래프에 제목, x축 라벨, y축 라벨을 추가해보세요."
      ],
      "metadata": {
        "id": "PPhsJKQCTVZH"
      }
    },
    {
      "cell_type": "code",
      "source": [],
      "metadata": {
        "id": "Ur_BU0STTkDf"
      },
      "execution_count": null,
      "outputs": []
    },
    {
      "cell_type": "markdown",
      "source": [
        "**2-3.** 위 그래프에 해당 숫자들의 코사인 값을 빨간색 점선으로 변경해보세요."
      ],
      "metadata": {
        "id": "q9EOpItkTkik"
      }
    },
    {
      "cell_type": "code",
      "source": [],
      "metadata": {
        "id": "eZ52UCWNTlqP"
      },
      "execution_count": null,
      "outputs": []
    },
    {
      "cell_type": "markdown",
      "source": [
        "**2-4.** 위 그래프에 범례(legend)를 추가해보세요."
      ],
      "metadata": {
        "id": "ci00di8WTosL"
      }
    },
    {
      "cell_type": "code",
      "source": [],
      "metadata": {
        "id": "pmq5Hf1ATpB7"
      },
      "execution_count": null,
      "outputs": []
    },
    {
      "cell_type": "markdown",
      "source": [
        "**2-5.** 위 그래프를 \"sin_cos_plot.png\"라는 이름으로 저장해보세요."
      ],
      "metadata": {
        "id": "xSRtY2HcTqks"
      }
    },
    {
      "cell_type": "code",
      "source": [],
      "metadata": {
        "id": "nJ2XWj64Tq_f"
      },
      "execution_count": null,
      "outputs": []
    },
    {
      "cell_type": "markdown",
      "source": [
        "## **문제 3**: Keras로 아키텍쳐 표현"
      ],
      "metadata": {
        "id": "QW3VwYlPTrVN"
      }
    },
    {
      "cell_type": "code",
      "source": [
        "from tensorflow import keras\n",
        "from keras import layers"
      ],
      "metadata": {
        "id": "EZgHDBASTsXz"
      },
      "execution_count": null,
      "outputs": []
    },
    {
      "cell_type": "markdown",
      "source": [
        "**3-1.** Keras의 Sequential API를 사용하여, 입력 노드가 10개이고 출력 노드가 3개이며, 활성화 함수는 ReLU인 퍼셉트론을 만들어보세요."
      ],
      "metadata": {
        "id": "qkKT98wDTtLe"
      }
    },
    {
      "cell_type": "code",
      "source": [],
      "metadata": {
        "id": "RkVKWEkyTu4B"
      },
      "execution_count": null,
      "outputs": []
    },
    {
      "cell_type": "markdown",
      "source": [
        "**3-2.** 출력 노드가 20개이고, 활성화 함수가 ReLU인 hidden layer를 추가해보세요."
      ],
      "metadata": {
        "id": "ZeL-pkPETwQ5"
      }
    },
    {
      "cell_type": "code",
      "source": [],
      "metadata": {
        "id": "xG1W9dr6Twi2"
      },
      "execution_count": null,
      "outputs": []
    },
    {
      "cell_type": "markdown",
      "source": [
        "**3-3.** 모델의 구조를 model.summary()를 통해 확인해보세요."
      ],
      "metadata": {
        "id": "nb5oLz8BTxiz"
      }
    },
    {
      "cell_type": "code",
      "source": [],
      "metadata": {
        "id": "E6vJKfGwT08h"
      },
      "execution_count": null,
      "outputs": []
    },
    {
      "cell_type": "markdown",
      "source": [
        "## **문제 4:** MNIST 데이터셋 예측하기"
      ],
      "metadata": {
        "id": "3gdDKQwST2js"
      }
    },
    {
      "cell_type": "code",
      "source": [
        "from keras.datasets import mnist\n",
        "from tensorflow.keras.utils import to_categorical\n",
        "\n",
        "# MNIST 데이터 불러오기\n",
        "(train_images, train_labels), (test_images, test_labels) = mnist.load_data()\n",
        "\n",
        "# 데이터 스케일링\n",
        "train_images = train_images.reshape((60000, 28 * 28))\n",
        "train_images = train_images.astype('float32') / 255\n",
        "\n",
        "test_images = test_images.reshape((10000, 28 * 28))\n",
        "test_images = test_images.astype('float32') / 255\n",
        "\n",
        "# 레이블을 범주형으로 변환\n",
        "train_labels = to_categorical(train_labels)\n",
        "test_labels = to_categorical(test_labels)"
      ],
      "metadata": {
        "id": "r3n0sRB2T25V"
      },
      "execution_count": null,
      "outputs": []
    },
    {
      "cell_type": "markdown",
      "source": [
        "**4-1.** 전체 train 데이터를 train set과 valid set으로 나누세요. (valid set 비율은 0.2)"
      ],
      "metadata": {
        "id": "_tYaCswUT4gt"
      }
    },
    {
      "cell_type": "code",
      "source": [
        "from sklearn.model_selection import train_test_split"
      ],
      "metadata": {
        "id": "Lvy43J4xT7a8"
      },
      "execution_count": null,
      "outputs": []
    },
    {
      "cell_type": "code",
      "source": [],
      "metadata": {
        "id": "CVrLrroNT9Fb"
      },
      "execution_count": null,
      "outputs": []
    },
    {
      "cell_type": "markdown",
      "source": [
        "**4-2.** Keras를 사용하여 아래의 구조를 가진 모델을 구성하세요.  \n",
        "- 입력층: 784개의 뉴런 (28x28 픽셀)\n",
        "- 은닉층: 128개의 뉴런과 ReLU 활성화 함수\n",
        "- 출력층: 10개의 뉴런 (숫자 0-9)과 Softmax 활성화 함수"
      ],
      "metadata": {
        "id": "U6I_ptvgT9Pm"
      }
    },
    {
      "cell_type": "code",
      "source": [
        "from keras import models"
      ],
      "metadata": {
        "id": "OF2i1IWEUB4r"
      },
      "execution_count": null,
      "outputs": []
    },
    {
      "cell_type": "code",
      "source": [],
      "metadata": {
        "id": "XjYcRprzUC2K"
      },
      "execution_count": null,
      "outputs": []
    },
    {
      "cell_type": "markdown",
      "source": [
        "**4-3.** 구성한 모델을 컴파일하세요. 이때, 손실함수로 Categorical Crossentropy를 사용하고, 최적화 알고리즘으로는 Adam을 사용하세요. 또한, 성능 지표로 accuracy를 사용하세요."
      ],
      "metadata": {
        "id": "T-336VRbUDNu"
      }
    },
    {
      "cell_type": "code",
      "source": [],
      "metadata": {
        "id": "qehq28I1UEYO"
      },
      "execution_count": null,
      "outputs": []
    },
    {
      "cell_type": "markdown",
      "source": [
        "**4-4.** 모델을 학습시키세요. (에포크는 10회, 배치 사이즈는 32로 설정, train&validation 데이터셋 사용)"
      ],
      "metadata": {
        "id": "j0Ig6cDxUGNt"
      }
    },
    {
      "cell_type": "code",
      "source": [],
      "metadata": {
        "id": "Ra0VHtB1UGof"
      },
      "execution_count": null,
      "outputs": []
    },
    {
      "cell_type": "markdown",
      "source": [
        "**4-5.** 학습 과정에서의 accuracy와 loss의 변화를 각각 그래프로 시각화하세요."
      ],
      "metadata": {
        "id": "YRoYEmL-UJMk"
      }
    },
    {
      "cell_type": "code",
      "source": [],
      "metadata": {
        "id": "MFGpbrh4UJ2I"
      },
      "execution_count": null,
      "outputs": []
    },
    {
      "cell_type": "markdown",
      "source": [
        "**4-6.** 학습된 모델을 test 데이터셋으로 평가(accuracy)하고, 5개의 샘플에 대한 모델의 예측을 출력하세요."
      ],
      "metadata": {
        "id": "dCG8c7VlUUGj"
      }
    },
    {
      "cell_type": "code",
      "source": [],
      "metadata": {
        "id": "kxXEq8UVUaCI"
      },
      "execution_count": null,
      "outputs": []
    },
    {
      "cell_type": "code",
      "source": [],
      "metadata": {
        "id": "CvZaPRdDUcIN"
      },
      "execution_count": null,
      "outputs": []
    }
  ]
}